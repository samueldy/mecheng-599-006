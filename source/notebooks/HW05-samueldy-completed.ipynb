{
 "cells": [
  {
   "cell_type": "markdown",
   "metadata": {},
   "source": [
    "# HW5, practice material from the \"Whirlwind Tour of Python\"\n",
    "\n",
    "The material covered in lectures 8 and 9 will primarily be practiced as you work on your individual project.\n",
    "\n",
    "Thus, this homework is a little different from the others. It is based on sections 8-13 of https://jakevdp.github.io/WhirlwindTourOfPython/index.html. Knowing this material will help you with Python programming in general, and your project in particular. \n",
    "\n",
    "The question numbers start with 8 so that the numbers align with the section of the book. Thus, it points to which section to read if you do not already know how to answer the question."
   ]
  },
  {
   "cell_type": "markdown",
   "metadata": {},
   "source": [
    "## 8. Control Flow Statements\n",
    "\n",
    "### i.  Write your own working if-elif-else statement \n"
   ]
  },
  {
   "cell_type": "code",
   "execution_count": 1,
   "metadata": {},
   "outputs": [
    {
     "name": "stdout",
     "output_type": "stream",
     "text": [
      "Small x\n"
     ]
    }
   ],
   "source": [
    "x = 5\n",
    "if x > 6:\n",
    "    print(\"Large x\")\n",
    "elif x > 7:\n",
    "    print(\"Larger x\")\n",
    "else:\n",
    "    print(\"Small x\")"
   ]
  },
  {
   "cell_type": "markdown",
   "metadata": {},
   "source": [
    "### ii. What does the `break` statement do?"
   ]
  },
  {
   "cell_type": "markdown",
   "metadata": {},
   "source": [
    "`break` will break out of the current loop (for or while loop), without continuing the iteration. This is useful for simulating `Do...While` loops in other languages."
   ]
  },
  {
   "cell_type": "markdown",
   "metadata": {},
   "source": [
    "### iii. Write your own `for` loop that includes a `break` statement, that causes some output to be different than if the `break` were not included. Verify that output."
   ]
  },
  {
   "cell_type": "code",
   "execution_count": 4,
   "metadata": {},
   "outputs": [
    {
     "name": "stdout",
     "output_type": "stream",
     "text": [
      "The current number is: 0 and is less than 10\n",
      "The current number is: 1 and is less than 10\n",
      "The current number is: 2 and is less than 10\n",
      "The current number is: 3 and is less than 10\n",
      "The current number is: 4 and is less than 10\n",
      "The current number is: 5 and is less than 10\n",
      "The current number is: 6 and is less than 10\n",
      "The current number is: 7 and is less than 10\n",
      "The current number is: 8 and is less than 10\n",
      "The current number is: 9 and is less than 10\n",
      "The current number is: 10 and is less than 10\n"
     ]
    }
   ],
   "source": [
    "for k in range(20):\n",
    "    print(\"The current number is: {} and is less than 10\".format(k))\n",
    "    if k >= 10:\n",
    "        break"
   ]
  },
  {
   "cell_type": "markdown",
   "metadata": {},
   "source": [
    "### iv. What does the `continue` statement do?"
   ]
  },
  {
   "cell_type": "raw",
   "metadata": {},
   "source": [
    "`continue` will skip execution of the rest of the current loop iteration, but will start the loop again on the next iteratoin."
   ]
  },
  {
   "cell_type": "markdown",
   "metadata": {},
   "source": [
    "### v. Write your own `while` loop that includes a `continue` statement. Check that the statement did what was expected."
   ]
  },
  {
   "cell_type": "code",
   "execution_count": 15,
   "metadata": {},
   "outputs": [
    {
     "name": "stdout",
     "output_type": "stream",
     "text": [
      "The number  1 is odd.\n",
      "The number  3 is odd.\n",
      "The number  5 is odd.\n",
      "The number  7 is odd.\n",
      "The number  9 is odd.\n",
      "The number 11 is odd.\n",
      "The number 13 is odd.\n",
      "The number 15 is odd.\n",
      "The number 17 is odd.\n",
      "The number 19 is odd.\n",
      "The number 21 is odd.\n"
     ]
    }
   ],
   "source": [
    "k = 0\n",
    "while k <= 20:\n",
    "    k += 1\n",
    "    if k % 2 == 0:\n",
    "        continue\n",
    "    print(\"The number {0:2d} is odd.\".format(k))\n"
   ]
  },
  {
   "cell_type": "markdown",
   "metadata": {},
   "source": [
    "## 9. Defining Functions\n",
    "\n",
    "Define a function (which has not been used in an example in class or in the Whirlwind book) that has at least one required and one optional parameter, and then call it.\n",
    "\n",
    "*Suggestion:* Write this answer with the next question in mind. In the next question you'll need some code that sometimes works, and sometimes has an error. If this is true of what you write here, you can use the same function and then update it to catch the error when you answer the next question."
   ]
  },
  {
   "cell_type": "code",
   "execution_count": 17,
   "metadata": {
    "collapsed": true
   },
   "outputs": [],
   "source": [
    "def myFun(x,y=2):\n",
    "    return x + y"
   ]
  },
  {
   "cell_type": "markdown",
   "metadata": {},
   "source": [
    "## 10. Errors and Exceptions\n",
    "\n",
    "Write a function that sometimes will work and sometimes will not (this can be your answer to the previous problem). Add a try-catch (try...except) clause so you get a nice, clean error message instead of a runtime error."
   ]
  },
  {
   "cell_type": "code",
   "execution_count": 23,
   "metadata": {},
   "outputs": [],
   "source": [
    "def myFun(x,y=2):\n",
    "    try:\n",
    "        y + 1./x\n",
    "    except ZeroDivisionError as err:\n",
    "        print(\"x cannot be zero. Please try again.\")"
   ]
  },
  {
   "cell_type": "code",
   "execution_count": 26,
   "metadata": {},
   "outputs": [
    {
     "name": "stdout",
     "output_type": "stream",
     "text": [
      "x cannot be zero. Please try again.\n"
     ]
    }
   ],
   "source": [
    "myFun(0,y=5)"
   ]
  },
  {
   "cell_type": "markdown",
   "metadata": {},
   "source": [
    "## 11. Iterators\n",
    "\n",
    "i. Write a function using the `enumerate` iterator."
   ]
  },
  {
   "cell_type": "code",
   "execution_count": 27,
   "metadata": {},
   "outputs": [
    {
     "name": "stdout",
     "output_type": "stream",
     "text": [
      " 0th square is:  16\n",
      " 1th square is:  25\n",
      " 2th square is: 1024\n",
      " 3th square is:  64\n",
      " 4th square is:   0\n"
     ]
    }
   ],
   "source": [
    "def printSquares(z):\n",
    "    for i,num in enumerate(z):\n",
    "        print(\"{:2}th square is: {:3d}\".format(i,num**2))\n",
    "        \n",
    "printSquares([4,5,32,8,0])"
   ]
  },
  {
   "cell_type": "markdown",
   "metadata": {},
   "source": [
    "ii. Write a function using the `zip` iterator."
   ]
  },
  {
   "cell_type": "code",
   "execution_count": 29,
   "metadata": {},
   "outputs": [
    {
     "name": "stdout",
     "output_type": "stream",
     "text": [
      "Sam's square is 1\n",
      "Sally's square is 9\n",
      "Samantha's square is 25\n",
      "Sorich's square is 49\n",
      "Sean's square is 64\n"
     ]
    }
   ],
   "source": [
    "num = [1,3,5,7,8]\n",
    "name = [\"Sam\",\"Sally\",\"Samantha\",\"Sorich\",\"Sean\"]\n",
    "def printOthersSquares(name,num):\n",
    "    for name,num in zip(name,num):\n",
    "        print(\"{}'s square is {}\".format(name, num**2))\n",
    "\n",
    "printOthersSquares(name,num)"
   ]
  },
  {
   "cell_type": "markdown",
   "metadata": {},
   "source": [
    "## 12. List Comprehensions\n",
    "\n",
    "Is the following a valid line of Python code? If so, what is the output? If not, fix what is wrong and then list the output. \n",
    "~~~\n",
    "[val for val in range(20) if val % 3 = 0]\n",
    "~~~"
   ]
  },
  {
   "cell_type": "code",
   "execution_count": 30,
   "metadata": {},
   "outputs": [
    {
     "data": {
      "text/plain": [
       "[0, 3, 6, 9, 12, 15, 18]"
      ]
     },
     "execution_count": 30,
     "metadata": {},
     "output_type": "execute_result"
    }
   ],
   "source": [
    "[val for val in range(20) if val % 3 == 0]"
   ]
  },
  {
   "cell_type": "markdown",
   "metadata": {},
   "source": [
    "## 13. Generators and Generator Expressions\n",
    "\n",
    "What is the difference between the following two snippets of code?\n",
    "\n",
    "~~~\n",
    "P = (n ** 2 for n in range(12))\n",
    "for val in P:\n",
    "    print(val, end=' ')\n",
    "~~~\n",
    "\n",
    "~~~\n",
    "Q = [n ** 2 for n in range(12)]\n",
    "for val in Q:\n",
    "    print(val, end=' ')\n",
    "~~~"
   ]
  },
  {
   "cell_type": "markdown",
   "metadata": {},
   "source": [
    "The first block is iterating over immutable items of a tuple; the second iterates over mutable items in a list. The output appears to be identical."
   ]
  },
  {
   "cell_type": "code",
   "execution_count": null,
   "metadata": {
    "collapsed": true
   },
   "outputs": [],
   "source": [
    "s"
   ]
  }
 ],
 "metadata": {
  "kernelspec": {
   "display_name": "Python 2",
   "language": "python",
   "name": "python2"
  },
  "language_info": {
   "codemirror_mode": {
    "name": "ipython",
    "version": 2
   },
   "file_extension": ".py",
   "mimetype": "text/x-python",
   "name": "python",
   "nbconvert_exporter": "python",
   "pygments_lexer": "ipython2",
   "version": "2.7.13"
  }
 },
 "nbformat": 4,
 "nbformat_minor": 2
}
