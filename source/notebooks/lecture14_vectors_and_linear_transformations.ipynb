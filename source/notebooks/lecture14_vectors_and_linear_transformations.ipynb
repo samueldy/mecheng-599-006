{
 "cells": [
  {
   "cell_type": "markdown",
   "metadata": {},
   "source": [
    "## 14) Vectors and Linear Transformations\n",
    "\n",
    "Related references:\n",
    "\n",
    "- [Feature Engineering for Machine Learning](https://search.lib.umich.edu/catalog/record/016260792) \n",
    "- [The Manga Guide to Linear Algebra](https://www.safaribooksonline.com/library/view/the-manga-guide/9781457166730/)\n",
    "- [Introduction to Linear Algebra by Gilbert Strang](http://math.mit.edu/~gs/linearalgebra/)\n",
    "- [Advanced Engineering Mathematics by Erwin Kreyszig](https://search.lib.umich.edu/catalog/record/016256884)"
   ]
  },
  {
   "cell_type": "markdown",
   "metadata": {},
   "source": [
    "## Vectors"
   ]
  },
  {
   "cell_type": "markdown",
   "metadata": {},
   "source": [
    "### Overview\n",
    "\n",
    "![Vectors](images/lect14_vectors1.png)\n",
    "This and other comics from [The Manga Guide to Linear Algebra](https://www.safaribooksonline.com/library/view/the-manga-guide/9781457166730/)"
   ]
  },
  {
   "cell_type": "markdown",
   "metadata": {},
   "source": [
    "![Vectors](images/lect14_vectors2.png)"
   ]
  },
  {
   "cell_type": "markdown",
   "metadata": {},
   "source": [
    "![Vectors](images/lect14_vectors3.png)"
   ]
  },
  {
   "cell_type": "markdown",
   "metadata": {},
   "source": [
    "![Vectors](images/lect14_vectors4.png)"
   ]
  },
  {
   "cell_type": "markdown",
   "metadata": {},
   "source": [
    "![Vectors](images/lect14_vectors5.png)"
   ]
  },
  {
   "cell_type": "markdown",
   "metadata": {},
   "source": [
    "### Linear Dependence and Bases\n",
    "\n",
    "![Vectors](images/lect14_vectors6.png)"
   ]
  },
  {
   "cell_type": "markdown",
   "metadata": {},
   "source": [
    "Find the constants $c_1, c_2, c_3$, and $c_4$ that satisfy the equation:\n",
    "$$\\left( \\begin{array}{ccc}\n",
    "0 \\\\\n",
    "0 \\end{array} \\right) = c_1 \\left( \\begin{array}{ccc}\n",
    "1 \\\\\n",
    "0 \\end{array} \\right)\n",
    "+ c_2 \\left( \\begin{array}{ccc} 1 \\\\ 0 \\end{array} \\right) + \n",
    "c_3 \\left( \\begin{array}{ccc} 3 \\\\ 1 \\end{array} \\right) + c_4 \\left( \\begin{array}{ccc} 1 \\\\ 2 \\end{array} \\right)$$"
   ]
  },
  {
   "cell_type": "markdown",
   "metadata": {},
   "source": [
    "![Vectors](images/lect14_vectors7.png)"
   ]
  },
  {
   "cell_type": "markdown",
   "metadata": {},
   "source": [
    "![Vectors](images/lect14_vectors8.png)"
   ]
  },
  {
   "cell_type": "markdown",
   "metadata": {},
   "source": [
    "![Vectors](images/lect14_vectors9.png)"
   ]
  },
  {
   "cell_type": "markdown",
   "metadata": {},
   "source": [
    "![Vectors](images/lect14_vectors10.png)"
   ]
  },
  {
   "cell_type": "markdown",
   "metadata": {},
   "source": [
    "![Vectors](images/lect14_vectors11.png)"
   ]
  },
  {
   "cell_type": "markdown",
   "metadata": {},
   "source": [
    "![Vectors](images/lect14_vectors12.png)"
   ]
  },
  {
   "cell_type": "markdown",
   "metadata": {},
   "source": [
    "![Vectors](images/lect14_vectors13.png)"
   ]
  },
  {
   "cell_type": "markdown",
   "metadata": {},
   "source": [
    "### Dimension\n",
    "\n",
    "![Vectors](images/lect14_vectors14.png)"
   ]
  },
  {
   "cell_type": "markdown",
   "metadata": {
    "collapsed": true
   },
   "source": [
    "### What is a subspace?\n",
    "\n",
    "Let $c$ be an arbitrary real number and $W$ be a nonempty subset of $R^m$ satisfying these two conditions:\n",
    "\n",
    "1. An element in $W$ multiplied by $c$ is still an element in $W$. (Closed under scalar multiplication.)\n",
    "\n",
    "    If $\\left( \\begin{array}{c} a_{1i} \\\\ a_{2i} \\\\ \\vdots \\\\ a_{mi} \\end{array} \\right) \\in W $, then $c \\left( \\begin{array}{c} a_{1i} \\\\ a_{2i} \\\\ \\vdots \\\\ a_{mi} \\end{array} \\right) \\in W $\n",
    "    \n",
    "1. The sum of two arbitrary elements in W is still an element in W. (Closed under addition.)\n",
    "\n",
    "    If $\\left( \\begin{array}{c} a_{1i} \\\\ a_{2i} \\\\ \\vdots \\\\ a_{mi} \\end{array} \\right) \\in W $ and $\\left( \\begin{array}{c} a_{1j} \\\\ a_{2j} \\\\ \\vdots \\\\ a_{mj} \\end{array} \\right) \\in W $, then $ \\left( \\begin{array}{c} a_{1i} \\\\ a_{2i} \\\\ \\vdots \\\\ a_{mi} \\end{array} \\right) + \\left( \\begin{array}{c} a_{1j} \\\\ a_{2j} \\\\ \\vdots \\\\ a_{mj} \\end{array} \\right) \\in W $\n",
    "    \n",
    "If both of these conditions hold, then $W$ is a subspace of $R^m$."
   ]
  },
  {
   "cell_type": "markdown",
   "metadata": {},
   "source": [
    "![Vectors](images/lect14_vectors15.png)"
   ]
  },
  {
   "cell_type": "markdown",
   "metadata": {},
   "source": [
    "Another, more concrete way to look at one-dimensional subspaces is as lines through the origin. Two-dimensional subspaces are similarly planes through the origin. Other subspaces can also be visualized, but not as easily.\n",
    "\n",
    "![Vectors](images/lect14_vectors16.png)"
   ]
  },
  {
   "cell_type": "markdown",
   "metadata": {},
   "source": [
    "![Vectors](images/lect14_vectors17.png)"
   ]
  },
  {
   "cell_type": "markdown",
   "metadata": {},
   "source": [
    "![Vectors](images/lect14_vectors18.png)"
   ]
  },
  {
   "cell_type": "markdown",
   "metadata": {},
   "source": [
    "## Linear Transformations\n",
    "\n",
    "![Vectors](images/lect14_vectors19.png)"
   ]
  },
  {
   "cell_type": "markdown",
   "metadata": {},
   "source": [
    "![Vectors](images/lect14_vectors20.png)"
   ]
  },
  {
   "cell_type": "markdown",
   "metadata": {},
   "source": [
    "![Vectors](images/lect14_vectors21.png)"
   ]
  },
  {
   "cell_type": "markdown",
   "metadata": {},
   "source": [
    "![Vectors](images/lect14_vectors22.png)"
   ]
  },
  {
   "cell_type": "markdown",
   "metadata": {},
   "source": [
    "![Vectors](images/lect14_vectors23.png)"
   ]
  },
  {
   "cell_type": "markdown",
   "metadata": {},
   "source": [
    "![Vectors](images/lect14_vectors24.png)"
   ]
  },
  {
   "cell_type": "markdown",
   "metadata": {},
   "source": [
    "![Vectors](images/lect14_vectors25.png)"
   ]
  },
  {
   "cell_type": "markdown",
   "metadata": {},
   "source": [
    "![Vectors](images/lect14_vectors26.png)"
   ]
  },
  {
   "cell_type": "markdown",
   "metadata": {},
   "source": [
    "![Vectors](images/lect14_vectors27.png)"
   ]
  },
  {
   "cell_type": "markdown",
   "metadata": {},
   "source": [
    "![Vectors](images/lect14_vectors28.png)"
   ]
  },
  {
   "cell_type": "markdown",
   "metadata": {},
   "source": [
    "![Vectors](images/lect14_vectors29.png)"
   ]
  },
  {
   "cell_type": "markdown",
   "metadata": {},
   "source": [
    "![Vectors](images/lect14_vectors30.png)"
   ]
  },
  {
   "cell_type": "markdown",
   "metadata": {},
   "source": [
    "![Vectors](images/lect14_vectors31.png)"
   ]
  },
  {
   "cell_type": "markdown",
   "metadata": {},
   "source": [
    "### Image\n",
    "\n",
    "The image of $f$ (written Im $f$) is equal to the set of vectors that is made up of all of the possible output values of f, as you can see in the following relation:\n",
    "\n",
    "![Vectors](images/lect14_vectors32.png)"
   ]
  },
  {
   "cell_type": "markdown",
   "metadata": {},
   "source": [
    "### Rank\n",
    "\n",
    "The number of linearly independent vectors among the columns of the matrix $M$ (which is also the dimension of the $R^m$ subspace Im $f$) is called the *rank* of $M$, and it is written: rank $M$."
   ]
  },
  {
   "cell_type": "markdown",
   "metadata": {},
   "source": [
    "What is the rank of $ \\left( \\begin{array}{ccc}\n",
    "3 & 1 \\\\\n",
    "1 & 2 \\end{array} \\right) $?"
   ]
  },
  {
   "cell_type": "code",
   "execution_count": null,
   "metadata": {},
   "outputs": [],
   "source": [
    "import numpy as np\n",
    "\n",
    "a = np.array([[3, 1], [1, 2]])\n",
    "np.linalg.matrix_rank(a)"
   ]
  },
  {
   "cell_type": "markdown",
   "metadata": {},
   "source": [
    "Of $ \\left( \\begin{array}{ccc}\n",
    "3 & 6 \\\\\n",
    "1 & 2 \\end{array} \\right) $?"
   ]
  },
  {
   "cell_type": "code",
   "execution_count": null,
   "metadata": {},
   "outputs": [],
   "source": [
    "b = np.array([[3, 6], [1, 2]])\n",
    "np.linalg.matrix_rank(b)"
   ]
  },
  {
   "cell_type": "markdown",
   "metadata": {},
   "source": [
    "![Vectors](images/lect14_vectors33.png)"
   ]
  },
  {
   "cell_type": "markdown",
   "metadata": {},
   "source": [
    "![Vectors](images/lect14_vectors34.png)"
   ]
  },
  {
   "cell_type": "markdown",
   "metadata": {},
   "source": [
    "#### Back to the cautions about matrix multiplication:\n",
    "\n",
    "Recall that:\n",
    "\n",
    "1. $\\mathbf{AC} = \\mathbf{AD} $ does not necessarily imply that $\\mathbf{C} = \\mathbf{D} $, even when $\\mathbf{A} \\neq 0 $\n",
    "1. $\\mathbf{AB} = 0 $ does not necessarily imply that $\\mathbf{A} = 0 $ or $\\mathbf{B} = 0 $ or $\\mathbf{BA} = 0 $"
   ]
  },
  {
   "cell_type": "markdown",
   "metadata": {},
   "source": [
    "We can be specific about when implications are true using the concept of rank.\n",
    "\n",
    "Let **A, B, C** be $n \\times n$ matrices. Then:\n",
    "\n",
    "1. If rank **A** $= n$ and **AB = AC **, then **B = C**.\n",
    "1. If rank **A** $= n$, then **AB = 0 ** implies **B = 0**. \n",
    "1. If **AB = 0** but **A** $\\neq $ **0** and **B** $\\neq $ **0**, then rank **A ** $ < n $ and rank **B** $ < n $.\n",
    "1. If **A** is singular, so are **AB** and **BA**."
   ]
  },
  {
   "cell_type": "markdown",
   "metadata": {},
   "source": [
    "## Solutions of Linear Equations\n",
    "\n",
    "### Fundamental theorem for linear systems\n",
    "\n",
    "a. **Existence.** A linear system of $m$ equations and $n$ unknowns $x_1, \\cdots, x_n$:\n",
    "\n",
    "$$  \\begin{array}{ccc}\n",
    "a_{11}x_1 &+& a_{12}x_2 &+& \\cdots &+&  a_{1n}x_n = b_1 \\\\\n",
    "a_{21}x_1 &+& a_{22}x_2 &+& \\cdots &+&  a_{2n}x_n = b_2 \\\\\n",
    "\\vdots    &+& \\vdots    &+& \\ddots &+&  \\vdots \\\\\n",
    "a_{m1}x_1 &+& a_{m2}x_2 &+& \\cdots &+& a_{mn}x_n = b_m \\end{array} $$\n",
    "\n",
    "has solutions if and only if the coefficient matrix **A** and the augmented matrix $\\mathbf{\\tilde{A}}$:\n",
    "\n",
    "$$ \\mathbf{A} = \\left [\\begin{array}{ccc}\n",
    "a_{11} & a_{12} &  \\cdots  & a_{1n}  \\\\\n",
    "a_{21} & a_{22} &  \\cdots  & a_{2n}  \\\\\n",
    "\\vdots & \\vdots &  \\ddots  & \\vdots  \\\\\n",
    "a_{m1} & a_{m2} &  \\cdots  & a_{mn}  \\end{array} \\right] \\quad and \\quad\n",
    "\\mathbf{\\tilde{A}} = \\left [\\begin{array}{ccc}\n",
    "a_{11} & a_{12} &  \\cdots  & a_{1n} & b_1 \\\\\n",
    "a_{21} & a_{22} &  \\cdots  & a_{2n} & b_2 \\\\\n",
    "\\vdots & \\vdots &  \\ddots  & \\vdots & \\vdots \\\\\n",
    "a_{m1} & a_{m2} &  \\cdots  & a_{mn} & b_m \\end{array} \\right] $$\n",
    "\n",
    "b. **Uniqueness.** The system has precisely one solution if and only if the common rank $r$ of **A** and $\\mathbf{\\tilde{A}}$ equals $n$.\n",
    "\n",
    "c. **Infinitely many solutions.** If the common rank $r < n$, the system has infinitely many solutions (underspecified). All of these are obtained by determining $r$ suitable unknowns (whose submatrix of coefficients must have rank $r$) in terms of the remaining $n-r$ unknowns, to which arbitrary values can be assigned.\n",
    "\n",
    "d. **Gaussian elimination.** If solutions exist, they can all be obtained by Gaussian elimination. It may be started without first determining ranks, as it will automatically reveal if solutions exist or not."
   ]
  },
  {
   "cell_type": "markdown",
   "metadata": {},
   "source": [
    "#### Example:\n",
    "\n",
    "Solve the linear system of equations:\n",
    "\n",
    "$$  \\begin{array}{ccc}\n",
    "3x_0 &+&  x_1 &=&  9 \\\\\n",
    " x_0 &+& 2x_1 &=&  8 \\end{array} $$"
   ]
  },
  {
   "cell_type": "code",
   "execution_count": null,
   "metadata": {},
   "outputs": [],
   "source": [
    "a = np.array([[3, 1], [1, 2]])\n",
    "b = np.array([[9], [8]])\n",
    "a_aug = np.hstack([a, b])\n",
    "print(a_aug)"
   ]
  },
  {
   "cell_type": "code",
   "execution_count": null,
   "metadata": {},
   "outputs": [],
   "source": [
    "print(np.linalg.matrix_rank(a))\n",
    "print(np.linalg.matrix_rank(a_aug))"
   ]
  },
  {
   "cell_type": "code",
   "execution_count": null,
   "metadata": {},
   "outputs": [],
   "source": [
    "x = np.linalg.solve(a, b)\n",
    "print(x)"
   ]
  },
  {
   "cell_type": "code",
   "execution_count": null,
   "metadata": {
    "collapsed": true
   },
   "outputs": [],
   "source": [
    "# Check solution\n",
    "np.allclose(np.dot(a, x), b)"
   ]
  },
  {
   "cell_type": "markdown",
   "metadata": {},
   "source": [
    "### The homogeneous linear system\n",
    "\n",
    "The linear system of $m$ equations and $n$ unknowns $x_1, \\cdots, x_n$ is called **homogeneous** if all the $b_j$'s on the right side equal zero. Otherwise, the system is called **nonhomogeneous**.\n",
    "\n",
    "The homogenous linear system:\n",
    "$$  \\begin{array}{ccc}\n",
    "a_{11}x_1 &+& a_{12}x_2 &+& \\cdots &+&  a_{1n}x_n = 0 \\\\\n",
    "a_{21}x_1 &+& a_{22}x_2 &+& \\cdots &+&  a_{2n}x_n = 0 \\\\\n",
    "\\vdots    &+& \\vdots    &+& \\ddots &+&  \\vdots \\\\\n",
    "a_{m1}x_1 &+& a_{m2}x_2 &+& \\cdots &+& a_{mn}x_n = 0 \\end{array} $$\n",
    "\n",
    "always has the **trivial solution** $x_j = 0$. Nontrivial solutions exist if and only if rank **A** < n. If rank **A** < n, these solutions, together with **x = 0** form the **solution space** of the system of equations. \n",
    "\n",
    "If **x**$_1$ and **x**$_2$ are both solution vectors of a homogenous system of equations, then **x** = $c_1$**x**$_1$ + $c_2$**x**$_2$ is a solution vector of the system of equations (this does *not* hold for nonhomogenous systems). \n",
    "\n",
    "Homogeneous equations with fewer equations than unknowns always has nontrivial solutions. "
   ]
  },
  {
   "cell_type": "markdown",
   "metadata": {},
   "source": [
    "### The nonhomogeneous linear system\n",
    "\n",
    "If a nonhomogeneous linear system of equations has solutions, then all these solutions are of the form:\n",
    "$$ \\mathbf{x} = \\mathbf{x}_0 + \\mathbf{x}_h$$\n",
    "\n",
    "where $\\mathbf{x}_0$ is any solution of the nonhomogenous system of equations, and $\\mathbf{x}_h$ runs through all the solutions of the corresponding homogeneous system."
   ]
  },
  {
   "cell_type": "markdown",
   "metadata": {},
   "source": [
    "### Cramer's Theorem\n",
    "\n",
    "If a linear system of $n$ equations and the same number of unknowns $x_1, \\cdots, x_n$, has a nonzero coefficient determinant D = det **A**, then the system has precisely one solution. \n",
    "\n",
    "If the system is homogeneous and D $\\neq$ 0, it has only the trivial solution **x = 0**. If D = 0, the homogeneous system also has nontrivial solutions."
   ]
  },
  {
   "cell_type": "markdown",
   "metadata": {},
   "source": [
    "**Next up:** Eigenvectors and eigenvalues!"
   ]
  }
 ],
 "metadata": {
  "kernelspec": {
   "display_name": "Python 3",
   "language": "python",
   "name": "python3"
  },
  "language_info": {
   "codemirror_mode": {
    "name": "ipython",
    "version": 3
   },
   "file_extension": ".py",
   "mimetype": "text/x-python",
   "name": "python",
   "nbconvert_exporter": "python",
   "pygments_lexer": "ipython3",
   "version": "3.6.1"
  }
 },
 "nbformat": 4,
 "nbformat_minor": 2
}
