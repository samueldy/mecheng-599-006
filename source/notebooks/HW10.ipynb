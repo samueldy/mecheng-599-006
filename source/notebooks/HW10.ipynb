{
 "cells": [
  {
   "cell_type": "markdown",
   "metadata": {},
   "source": [
    "# HW10, Intro to Machine Learning"
   ]
  },
  {
   "cell_type": "markdown",
   "metadata": {},
   "source": [
    "## 1. ML Basics\n",
    "\n",
    "##### What is the main difference between supervised and unsupervised machine learning? What are the main categories for each?"
   ]
  },
  {
   "cell_type": "markdown",
   "metadata": {},
   "source": [
    "* Supervised: Uses human-classified data as training and attempts to minimize machine classification deviation from the training labels.\n",
    "    * Classification (discrete prediction)\n",
    "    * Regression (continuous prediction)\n",
    "* Unsupervised: find patterns in unclassified data\n",
    "    * Dimensionality reduction\n",
    "    * Clustering"
   ]
  },
  {
   "cell_type": "markdown",
   "metadata": {},
   "source": [
    "## Intro to Scikit Learn\n",
    "\n",
    "##### i. How must data be arranged before using it in your ML model?"
   ]
  },
  {
   "cell_type": "markdown",
   "metadata": {},
   "source": [
    "Need a feature matrix and a label vector (the feature matrix must be a non-unidimensional array)."
   ]
  },
  {
   "cell_type": "markdown",
   "metadata": {},
   "source": [
    "##### ii. What are some nice features of Scikit Learn?"
   ]
  },
  {
   "cell_type": "markdown",
   "metadata": {},
   "source": [
    "* Consistent model API\n",
    "* Very good documentation and examples"
   ]
  },
  {
   "cell_type": "markdown",
   "metadata": {},
   "source": [
    "## A little deaper into ML\n",
    "\n",
    "##### i. What are hyperparameters? List one example."
   ]
  },
  {
   "cell_type": "markdown",
   "metadata": {},
   "source": [
    "These are model parameters that are not specific to the data. For example, the number of clusters for a *k*-means clustering algorithm."
   ]
  },
  {
   "cell_type": "markdown",
   "metadata": {},
   "source": [
    "##### ii. What are some of the \"knobs\" we can turn to increase the accuracy of our ML estimator?"
   ]
  },
  {
   "cell_type": "markdown",
   "metadata": {},
   "source": [
    "* Hyperparameters\n",
    "* Complexity of model\n",
    "* Amount of data"
   ]
  },
  {
   "cell_type": "markdown",
   "metadata": {},
   "source": [
    "##### iii. What is the purpose of holding out testing data from the model during the learning step? When deciding to withhold data for testing, what are some important considerations?"
   ]
  },
  {
   "cell_type": "markdown",
   "metadata": {},
   "source": [
    "Can use this to test accuracy of fit when challenged with different subsets of data--this allow one to test the algorithm on data other than what it was trained on."
   ]
  },
  {
   "cell_type": "markdown",
   "metadata": {},
   "source": [
    "##### iv. How can we test for under- or over-fitting our model?"
   ]
  },
  {
   "cell_type": "markdown",
   "metadata": {},
   "source": [
    "Use a validation curve as a function of model complexity."
   ]
  },
  {
   "cell_type": "code",
   "execution_count": null,
   "metadata": {},
   "outputs": [],
   "source": []
  }
 ],
 "metadata": {
  "kernelspec": {
   "display_name": "Python 3",
   "language": "python",
   "name": "python3"
  },
  "language_info": {
   "codemirror_mode": {
    "name": "ipython",
    "version": 3
   },
   "file_extension": ".py",
   "mimetype": "text/x-python",
   "name": "python",
   "nbconvert_exporter": "python",
   "pygments_lexer": "ipython3",
   "version": "3.6.6"
  }
 },
 "nbformat": 4,
 "nbformat_minor": 2
}
