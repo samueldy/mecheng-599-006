{
 "cells": [
  {
   "cell_type": "markdown",
   "metadata": {},
   "source": [
    "# HW3, practice with python data types and syntax\n",
    "\n",
    "This assignment reviews materials in lectures 4 and 5.\n",
    "\n",
    "In all cases, programming should be done in python 3 and you should use any good programming practices that we have discussed so far (e.g. use of white space)."
   ]
  },
  {
   "cell_type": "markdown",
   "metadata": {},
   "source": [
    "## 1. Data types\n",
    "\n",
    "i. Initialize a variable as a string which can be converted into a float, do so, and then print the number (with two decimal places) and object type that the variable points to."
   ]
  },
  {
   "cell_type": "code",
   "execution_count": 6,
   "metadata": {},
   "outputs": [
    {
     "name": "stdout",
     "output_type": "stream",
     "text": [
      "Number is: 3.00\n"
     ]
    },
    {
     "data": {
      "text/plain": [
       "str"
      ]
     },
     "execution_count": 6,
     "metadata": {},
     "output_type": "execute_result"
    }
   ],
   "source": [
    "num = '3.0'\n",
    "print(\"Number is: {0:.2f}\".format(float(num)))\n",
    "type(num)"
   ]
  },
  {
   "cell_type": "markdown",
   "metadata": {},
   "source": [
    "ii. Initialize variables pointing to the four types of collections discussed in class. Using comments, state two properties/features of each type of collection."
   ]
  },
  {
   "cell_type": "code",
   "execution_count": 7,
   "metadata": {},
   "outputs": [],
   "source": [
    "list1 = [0,1,2] # Mutable, indexable\n",
    "list2 = (0,1,2) # Immutable, indexable\n",
    "list3 = {'first':1,'second':2,'third':3} # Mutable, key-value pairs\n",
    "list4 = {1,2,3} # Unique, non-indexable"
   ]
  },
  {
   "cell_type": "markdown",
   "metadata": {},
   "source": [
    "iii. Create a list with the values 4, 9, 16, 25, 36, and 49 (in that order). Print 25, 36, 49, twice by using two different ways of indexing values. What happens when you index from a higher number to a lower number?"
   ]
  },
  {
   "cell_type": "code",
   "execution_count": 20,
   "metadata": {},
   "outputs": [
    {
     "name": "stdout",
     "output_type": "stream",
     "text": [
      "[25, 36, 49]\n",
      "[25, 36, 49]\n",
      "[]\n"
     ]
    }
   ],
   "source": [
    "squares = [k**2 for k in [2,3,4,5,6,7]]\n",
    "print(squares[3:6])\n",
    "print(squares[-3:])\n",
    "print(squares[5:1])"
   ]
  },
  {
   "cell_type": "markdown",
   "metadata": {},
   "source": [
    "Looks like indexing from a higher number to a lower one results in an empty list, unless you use the -1 step in this way:"
   ]
  },
  {
   "cell_type": "code",
   "execution_count": 23,
   "metadata": {},
   "outputs": [
    {
     "name": "stdout",
     "output_type": "stream",
     "text": [
      "[49, 36, 25, 16]\n"
     ]
    }
   ],
   "source": [
    "print(squares[5:1:-1])"
   ]
  },
  {
   "cell_type": "markdown",
   "metadata": {},
   "source": [
    "## 2.  Simple functions and logic"
   ]
  },
  {
   "cell_type": "markdown",
   "metadata": {},
   "source": [
    "i. Calculate a value from a formula of your choice that extends over two lines"
   ]
  },
  {
   "cell_type": "code",
   "execution_count": 25,
   "metadata": {},
   "outputs": [
    {
     "name": "stdout",
     "output_type": "stream",
     "text": [
      "113.097335508\n"
     ]
    }
   ],
   "source": [
    "piConst = 3.141592653;\n",
    "r = 3.0;\n",
    "Vsphere = 4./3.*piConst* \\\n",
    "    r**3\n",
    "print(Vsphere)"
   ]
  },
  {
   "cell_type": "markdown",
   "metadata": {},
   "source": [
    "ii. Write a loop (whichever kind you wish) that creates a list containing the first 10 numbers in the Fibonacci sequence, where the first number is 0. Then, print the total of those 10 numbers and the final list."
   ]
  },
  {
   "cell_type": "code",
   "execution_count": 29,
   "metadata": {},
   "outputs": [
    {
     "name": "stdout",
     "output_type": "stream",
     "text": [
      "143\n",
      "[1, 1, 2, 3, 5, 8, 13, 21, 34, 55]\n"
     ]
    }
   ],
   "source": [
    "fibonacci_seq = [1,1]\n",
    "for k in range(2,10):\n",
    "    fibonacci_seq.append(fibonacci_seq[k-2]+fibonacci_seq[k-1])\n",
    "\n",
    "print(sum(fibonacci_seq))\n",
    "print(fibonacci_seq)"
   ]
  },
  {
   "cell_type": "markdown",
   "metadata": {},
   "source": [
    "iii. Initialize a variable to point to a sentence of your choice. Check whether a word is contained within the string. If so, replace it with another word of your choice."
   ]
  },
  {
   "cell_type": "code",
   "execution_count": 37,
   "metadata": {},
   "outputs": [
    {
     "name": "stdout",
     "output_type": "stream",
     "text": [
      "This is a string comprised of characters\n"
     ]
    }
   ],
   "source": [
    "sentence = \"This is a string of characters\"\n",
    "\n",
    "if sentence.find(\"of\"):\n",
    "    sentence = sentence.replace(\"of\",\"comprised of\")\n",
    "\n",
    "print(sentence)"
   ]
  },
  {
   "cell_type": "markdown",
   "metadata": {},
   "source": [
    "iv. Predict the output from the following code block, then run it in python to check if you were correct:"
   ]
  },
  {
   "cell_type": "raw",
   "metadata": {},
   "source": [
    "Output should be:\n",
    "\"ten\"."
   ]
  },
  {
   "cell_type": "code",
   "execution_count": 39,
   "metadata": {},
   "outputs": [
    {
     "name": "stdout",
     "output_type": "stream",
     "text": [
      "ten\n"
     ]
    }
   ],
   "source": [
    "var = None\n",
    "alt_var = None\n",
    "my_set = {7, 5, 2, 1, 7, 9}\n",
    "if len(my_set) == 5:\n",
    "    alt_var = {2: \"ten\", 3: \"fifteen\"}\n",
    "else:\n",
    "    var = [2, 5, 7]\n",
    "if var:\n",
    "    print(var[2])\n",
    "if alt_var:\n",
    "    print(alt_var[2])"
   ]
  }
 ],
 "metadata": {
  "kernelspec": {
   "display_name": "Python 3",
   "language": "python",
   "name": "python3"
  },
  "language_info": {
   "codemirror_mode": {
    "name": "ipython",
    "version": 3
   },
   "file_extension": ".py",
   "mimetype": "text/x-python",
   "name": "python",
   "nbconvert_exporter": "python",
   "pygments_lexer": "ipython3",
   "version": "3.6.6"
  }
 },
 "nbformat": 4,
 "nbformat_minor": 2
}
