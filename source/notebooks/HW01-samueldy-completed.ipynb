{
 "cells": [
  {
   "cell_type": "markdown",
   "metadata": {},
   "source": [
    "# HW1, practicing bash and vim\n",
    "\n",
    "For this problem, you will practice common and helpful bash commands, such as:\n",
    "```\n",
    "ls\n",
    "pwd\n",
    "cd\n",
    "cp\n",
    "rm\n",
    "mv\n",
    "mkdir\n",
    "cat\n",
    "tail \n",
    "head\n",
    "wget\n",
    "grep\n",
    "diff\n",
    "wc -l\n",
    "```\n",
    "and more advanced (and extremely helpful) utilities such as `sed`, `awk`, and `vim`.\n"
   ]
  },
  {
   "cell_type": "markdown",
   "metadata": {
    "collapsed": true
   },
   "source": [
    "\n",
    "## 1. For each part below, type the bash commands to complete the following tasks:\n",
    "\n",
    "i. Create a directory named 'hw01prob01'"
   ]
  },
  {
   "cell_type": "raw",
   "metadata": {},
   "source": [
    "mkdir \"hw01prob01\"\n",
    "cat - > hopper_quotes.txt\n",
    "To me programming is more than an important practical art. It is also a gigantic undertaking in the foundations of knowledge.\n",
    "\n",
    "No computer is ever going to ask a new, reasonable question. It takes trained people to do that.\n",
    "\n",
    "We're flooding people with information. We need to feed it through a processor. A human must turn information into intelligence or knowledge. We've tended to forget that no computer will ever ask a new question.\n",
    "<C+d>"
   ]
  },
  {
   "cell_type": "markdown",
   "metadata": {},
   "source": [
    "ii. In that directory create a file named 'hopper_quotes.txt' containing the following text (okay to use vim in this part):\n",
    "\n",
    "> To me programming is more than an important practical art. It is also a gigantic undertaking in the foundations of knowledge.\n",
    "\n",
    "> No computer is ever going to ask a new, reasonable question. It takes trained people to do that.\n",
    "\n",
    "> We're flooding people with information. We need to feed it through a processor. A human must turn information into intelligence or knowledge. We've tended to forget that no computer will ever ask a new question."
   ]
  },
  {
   "cell_type": "raw",
   "metadata": {},
   "source": []
  },
  {
   "cell_type": "markdown",
   "metadata": {},
   "source": [
    "iii.  From the command line, display (on your terminal) the last line of the file."
   ]
  },
  {
   "cell_type": "raw",
   "metadata": {},
   "source": [
    "tail -n 1 hopper_quotes.txt"
   ]
  },
  {
   "cell_type": "markdown",
   "metadata": {},
   "source": [
    "iv. In one line of bash commands: make a copy of that file, naming it 'hopper_edited.txt', while changing *every* instance of ' is ' to ' remains ' (spaces added so that only the whole word is replaced, rather than parts of words, like accidentally changing 'this' to 'thremains'). Display the full contents of this edited file."
   ]
  },
  {
   "cell_type": "raw",
   "metadata": {},
   "source": [
    "sed -e 's| is | remains |g' < hopper_quotes.txt | tee hopper_edited.txt"
   ]
  },
  {
   "cell_type": "markdown",
   "metadata": {},
   "source": [
    "v. Make a new file 'combined.txt' with all the contents of 'hopper_quotes.txt' followed by 'hopper_edited.txt'. \n",
    "Display the total number of lines of this new file."
   ]
  },
  {
   "cell_type": "raw",
   "metadata": {},
   "source": [
    "cat hopper_quotes.txt hopper_edited.txt | tee combined.txt | wc -l"
   ]
  },
  {
   "cell_type": "markdown",
   "metadata": {},
   "source": [
    "vi. Display the contents of the directory 'hw01prob01' including the permission on each file (additional information may be printed if desired). \n"
   ]
  },
  {
   "cell_type": "raw",
   "metadata": {},
   "source": [
    "ls -l hw01prob01"
   ]
  },
  {
   "cell_type": "markdown",
   "metadata": {},
   "source": [
    "vii. Copy the whole directory 'hw01prob01' to a new one named ''hw01prob01_complete'. Compare these directories. Then delete 'hw01prob01' and all its contents."
   ]
  },
  {
   "cell_type": "raw",
   "metadata": {},
   "source": [
    "cp -r hw01prob01 hw01prob01_complete\n",
    "comm <(ls hw01prob01 | sort) <(ls hw01prob01_complete | sort)\n",
    "rm -r hw01prob01"
   ]
  },
  {
   "cell_type": "markdown",
   "metadata": {},
   "source": [
    "viii. Using a shortcut, navigate to your home directory. List all the hidden files. In addition to reporting the commands for these two actions, report (some of) the hidden files that you have in your home directory which change preferences for particular programs."
   ]
  },
  {
   "cell_type": "raw",
   "metadata": {},
   "source": [
    "cd ~\n",
    "ls -a\n",
    "# Hidden files include .conda, .FamilySearchIndexing, .gtkrc-2.0, .matplotlib, and many others."
   ]
  },
  {
   "cell_type": "markdown",
   "metadata": {},
   "source": [
    "## 2. Type the vim commands needed to perform the following tasks.\n",
    "\n",
    "First, make a file with the following text (you do not need to report how you created this file).\n",
    "\n",
    "> Manifesto for Agile Software Development\n",
    "\n",
    "> We are uncovering better ways of developing\n",
    "software by doing it and helping others do it.\n",
    "Through this work we have come to value:\n",
    "\n",
    "> - *Individuals and interactions* over processes and tools\n",
    "> - *Working software* over comprehensive documentation\n",
    "> - *Customer collaboration* over contract negotiation\n",
    "> - *Responding to change* over following a plan\n",
    "\n",
    "> That is, while there is value in the items on\n",
    "the right, we value the items on the left more.\n",
    "\n",
    ">Signed: Kent Beck, Mike Beedle, Arie van Bennekum, Alistair Cockburn, Ward Cunningham, Martin Fowler, James Grenning, Jim Highsmith, Andrew Hunt, Ron Jeffries, Jon Kern, Brian Marick, Robert C. Martin, Steve Mellor, Ken Schwaber, Jeff Sutherland, Dave Thomas\n",
    "\n",
    "i. Report the name you used for the file. The name should follow guidelines discussed in class (which still leaves many valid options)."
   ]
  },
  {
   "cell_type": "raw",
   "metadata": {},
   "source": [
    "\"manifesto_sample.txt\""
   ]
  },
  {
   "cell_type": "markdown",
   "metadata": {},
   "source": [
    "ii. In your bash terminal, type the command to print the second word and forth word (one after the other) of every line. Verify that the first line of output is \"for Software\"."
   ]
  },
  {
   "cell_type": "raw",
   "metadata": {},
   "source": [
    "awk '{print $2, $4}'"
   ]
  },
  {
   "cell_type": "markdown",
   "metadata": {},
   "source": [
    "iii. In your bash terminal, type the command to print every line that contains the word 'we'. "
   ]
  },
  {
   "cell_type": "raw",
   "metadata": {},
   "source": [
    "grep -i we < manifesto_sample.txt"
   ]
  },
  {
   "cell_type": "markdown",
   "metadata": {},
   "source": [
    "All remaining parts of this problem will be completed in vim. Report the vim commands to:\n",
    "\n",
    "iv. Find the first instance of the word 'item' or 'items'. Then skip to the next occurence. "
   ]
  },
  {
   "cell_type": "raw",
   "metadata": {},
   "source": [
    "/item\n",
    "n"
   ]
  },
  {
   "cell_type": "markdown",
   "metadata": {},
   "source": [
    "v. Return to the first line using a shortcut. Then use a shortcut to move the cursor to the end of the line."
   ]
  },
  {
   "cell_type": "raw",
   "metadata": {},
   "source": [
    "gg\n",
    "G"
   ]
  },
  {
   "cell_type": "markdown",
   "metadata": {},
   "source": [
    "vi. Move to line 5. Cut/delete it."
   ]
  },
  {
   "cell_type": "raw",
   "metadata": {},
   "source": [
    ":5\n",
    "dd"
   ]
  },
  {
   "cell_type": "markdown",
   "metadata": {},
   "source": [
    "vii. Move to the end of the file. Paste the deleted line so it will appear five times. "
   ]
  },
  {
   "cell_type": "raw",
   "metadata": {},
   "source": [
    ":$\n",
    "5p"
   ]
  },
  {
   "cell_type": "markdown",
   "metadata": {},
   "source": [
    "viii. Replace all instances of the word 'we' with the word 'I'. Also replace 'We are' with 'I am'. Save and close the file."
   ]
  },
  {
   "cell_type": "raw",
   "metadata": {},
   "source": [
    ":%s/ we / I /g\n",
    ":%s/We are/I am/g\n",
    ":wq"
   ]
  }
 ],
 "metadata": {
  "kernelspec": {
   "display_name": "Python 3",
   "language": "python",
   "name": "python3"
  },
  "language_info": {
   "codemirror_mode": {
    "name": "ipython",
    "version": 3
   },
   "file_extension": ".py",
   "mimetype": "text/x-python",
   "name": "python",
   "nbconvert_exporter": "python",
   "pygments_lexer": "ipython3",
   "version": "3.6.6"
  }
 },
 "nbformat": 4,
 "nbformat_minor": 2
}
