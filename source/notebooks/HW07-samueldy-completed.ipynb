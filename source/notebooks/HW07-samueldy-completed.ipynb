{
 "cells": [
  {
   "cell_type": "markdown",
   "metadata": {},
   "source": [
    "# HW7, Practice with NumPy and Linear Algebra"
   ]
  },
  {
   "cell_type": "markdown",
   "metadata": {},
   "source": [
    "## 1. Probability fundamentals\n",
    "\n",
    "### i. There are 27 students in the class. Assuming that everyone turns in a project, and I grade them in random order, how many ways (orders) can I evaluate the projects?"
   ]
  },
  {
   "cell_type": "code",
   "execution_count": 2,
   "metadata": {},
   "outputs": [],
   "source": [
    "import numpy as np\n",
    "import pandas as pd\n",
    "import scipy as sp"
   ]
  },
  {
   "cell_type": "code",
   "execution_count": 4,
   "metadata": {},
   "outputs": [
    {
     "data": {
      "text/plain": [
       "10888869450418352160768000000"
      ]
     },
     "execution_count": 4,
     "metadata": {},
     "output_type": "execute_result"
    }
   ],
   "source": [
    "sp.math.factorial(27)"
   ]
  },
  {
   "cell_type": "markdown",
   "metadata": {},
   "source": [
    "## 2. Matrices and Linear Algebra\n",
    "\n",
    "### i. Find **C**\n",
    "\n",
    "$$ \\mathbf{AB} = \\left[ \\begin{array}{cc}\n",
    "4 & 3 \\\\\n",
    "7 & 2 \\end{array} \\right] \\left[ \\begin{array}{cc}\n",
    "2 & 5 \\\\\n",
    "1 & 6 \\end{array} \\right] = \\mathbf{C}$$"
   ]
  },
  {
   "cell_type": "code",
   "execution_count": 6,
   "metadata": {},
   "outputs": [
    {
     "name": "stdout",
     "output_type": "stream",
     "text": [
      "[[11 38]\n",
      " [16 47]]\n"
     ]
    }
   ],
   "source": [
    "A = np.array([[4,3],\n",
    "             [7,2]])\n",
    "B = np.array([[2,5],\n",
    "             [1,6]])\n",
    "print(np.matmul(A,B))"
   ]
  },
  {
   "cell_type": "markdown",
   "metadata": {},
   "source": [
    "### ii. Find **F**\n",
    "\n",
    "$$ \\mathbf{DE} = \\left[ \\begin{array}{cc}\n",
    "3 & 6 & 1 \\end{array} \\right] \\left[ \\begin{array}{cc}\n",
    "1 \\\\\n",
    "2 \\\\\n",
    "4 \\end{array} \\right] = \\mathbf{F}$$"
   ]
  },
  {
   "cell_type": "code",
   "execution_count": 11,
   "metadata": {},
   "outputs": [
    {
     "name": "stdout",
     "output_type": "stream",
     "text": [
      "19\n"
     ]
    }
   ],
   "source": [
    "D = np.array([3,6,1])\n",
    "E = np.array([1,2,4]).transpose()\n",
    "print(np.matmul(D,E))"
   ]
  },
  {
   "cell_type": "markdown",
   "metadata": {},
   "source": [
    "### iii. Find det **G** Given:\n",
    "\n",
    "$$ \\mathbf{G} = \\left[ \\begin{array}{ccc}\n",
    "-1 & 1 & 2 \\\\\n",
    "3 & -1 & 1 \\\\\n",
    "-1 & 3 & 4\\end{array} \\right]$$"
   ]
  },
  {
   "cell_type": "code",
   "execution_count": 18,
   "metadata": {},
   "outputs": [
    {
     "name": "stdout",
     "output_type": "stream",
     "text": [
      "10.000000000000002\n"
     ]
    }
   ],
   "source": [
    "G = np.array([[-1,1,2],\n",
    "            [3,-1,1],\n",
    "            [-1,3,4]])\n",
    "print(np.linalg.det(G))"
   ]
  },
  {
   "cell_type": "markdown",
   "metadata": {},
   "source": [
    "### iv. Find $\\mathbf{G}^{-1}$ (G given above)"
   ]
  },
  {
   "cell_type": "code",
   "execution_count": null,
   "metadata": {},
   "outputs": [],
   "source": []
  },
  {
   "cell_type": "markdown",
   "metadata": {},
   "source": [
    "### v. Check that your answer to the previous question part is correct"
   ]
  },
  {
   "cell_type": "code",
   "execution_count": 20,
   "metadata": {},
   "outputs": [
    {
     "name": "stdout",
     "output_type": "stream",
     "text": [
      "[[-0.7  0.2  0.3]\n",
      " [-1.3 -0.2  0.7]\n",
      " [ 0.8  0.2 -0.2]]\n"
     ]
    }
   ],
   "source": [
    "print(np.linalg.inv(G))"
   ]
  },
  {
   "cell_type": "markdown",
   "metadata": {},
   "source": [
    "### vi. Solve the following linear system of equations. Then check your work.\n",
    "\n",
    "$$  \\begin{array}{ccc}\n",
    "6x_0 &+& 4x_1 &=&  2 \\\\\n",
    "3x_0 &-& 5x_1 &=& -34 \\end{array} $$"
   ]
  },
  {
   "cell_type": "code",
   "execution_count": 21,
   "metadata": {},
   "outputs": [
    {
     "data": {
      "text/plain": [
       "array([[-3.],\n",
       "       [ 5.]])"
      ]
     },
     "execution_count": 21,
     "metadata": {},
     "output_type": "execute_result"
    }
   ],
   "source": [
    "A = np.array([[6,4],[3,-5]])\n",
    "b = np.array([[2,-34]]).transpose()\n",
    "np.linalg.solve(A,b)"
   ]
  },
  {
   "cell_type": "markdown",
   "metadata": {},
   "source": [
    "### vii. Find the eigenvalues and associated eigenvectors of the matrix below. Then check your answers.\n",
    "\n",
    "$$ \\mathbf{H} = \\left[ \\begin{array}{cc}\n",
    "-5 & 2 \\\\\n",
    "2 & 2\\end{array} \\right]$$"
   ]
  },
  {
   "cell_type": "code",
   "execution_count": 24,
   "metadata": {},
   "outputs": [
    {
     "name": "stdout",
     "output_type": "stream",
     "text": [
      "Eigenvalue = -5.531128874149275\n",
      "Eigenvector = [-0.96649965 -0.25666794]\n",
      "\n",
      "\n",
      "Eigenvalue = 2.531128874149275\n",
      "Eigenvector = [ 0.25666794 -0.96649965]\n",
      "\n",
      "\n"
     ]
    }
   ],
   "source": [
    "H = np.array([[-5,2],[2,2]])\n",
    "eigvals,eigvecs = np.linalg.eig(H)\n",
    "for val,vec in zip(eigvals,eigvecs):\n",
    "    print(\"Eigenvalue = {}\".format(val))\n",
    "    print(\"Eigenvector = {}\".format(vec))\n",
    "    print(\"\\n\")"
   ]
  },
  {
   "cell_type": "markdown",
   "metadata": {},
   "source": [
    "## 1. Pandas\n",
    "\n",
    "i. Create a Pandas dataframe with the following data collected from 5 samples of the species Iris setosa:\n",
    "\n",
    "|sample_label | sepal_length | sepal_width | petal_length | petal_width |\n",
    "|-----------|-----------|-----------|-----------|-----------|\n",
    "| a | 5.1 | 3.5 | 1.4 | 0.2 |\n",
    "| b | 4.9 | 3.0 | 1.4 | 0.2 |\n",
    "| c | 4.7 | 3.2 | 1.3 | 0.2 |\n",
    "| d | 4.6 | 3.1 | 1.5 | 0.2 |\n",
    "| e | 5.0 | 3.6 | 1.4 | 0.2 |\n",
    "\n",
    "Also name the dataframe \"iris_setosa\" and the indices \"sample_label\"."
   ]
  },
  {
   "cell_type": "code",
   "execution_count": 30,
   "metadata": {},
   "outputs": [],
   "source": [
    "data = np.array([[5.1,3.5,1.4,0.2],\n",
    "                [4.9,3.0,1.4,0.2],\n",
    "                [4.7,3.2,1.3,0.2],\n",
    "                [4.6,3.1,1.5,0.2],\n",
    "                [5.0,3.6,1.4,0.2]])\n",
    "indices = ['a','b','c','d','e']\n",
    "labels = ['sepal_length','sepal_width','petal_length','petal_width']\n",
    "df = pd.DataFrame(data=data,index=indices,columns=labels)\n",
    "df.name = 'iris_setosa'\n",
    "df.columns.name = 'sample_label'"
   ]
  },
  {
   "cell_type": "markdown",
   "metadata": {},
   "source": [
    "ii. Display only the data for sepal dimensions."
   ]
  },
  {
   "cell_type": "code",
   "execution_count": 31,
   "metadata": {},
   "outputs": [
    {
     "data": {
      "text/html": [
       "<div>\n",
       "<style scoped>\n",
       "    .dataframe tbody tr th:only-of-type {\n",
       "        vertical-align: middle;\n",
       "    }\n",
       "\n",
       "    .dataframe tbody tr th {\n",
       "        vertical-align: top;\n",
       "    }\n",
       "\n",
       "    .dataframe thead th {\n",
       "        text-align: right;\n",
       "    }\n",
       "</style>\n",
       "<table border=\"1\" class=\"dataframe\">\n",
       "  <thead>\n",
       "    <tr style=\"text-align: right;\">\n",
       "      <th>sample_label</th>\n",
       "      <th>sepal_length</th>\n",
       "      <th>sepal_width</th>\n",
       "    </tr>\n",
       "  </thead>\n",
       "  <tbody>\n",
       "    <tr>\n",
       "      <th>a</th>\n",
       "      <td>5.1</td>\n",
       "      <td>3.5</td>\n",
       "    </tr>\n",
       "    <tr>\n",
       "      <th>b</th>\n",
       "      <td>4.9</td>\n",
       "      <td>3.0</td>\n",
       "    </tr>\n",
       "    <tr>\n",
       "      <th>c</th>\n",
       "      <td>4.7</td>\n",
       "      <td>3.2</td>\n",
       "    </tr>\n",
       "    <tr>\n",
       "      <th>d</th>\n",
       "      <td>4.6</td>\n",
       "      <td>3.1</td>\n",
       "    </tr>\n",
       "    <tr>\n",
       "      <th>e</th>\n",
       "      <td>5.0</td>\n",
       "      <td>3.6</td>\n",
       "    </tr>\n",
       "  </tbody>\n",
       "</table>\n",
       "</div>"
      ],
      "text/plain": [
       "sample_label  sepal_length  sepal_width\n",
       "a                      5.1          3.5\n",
       "b                      4.9          3.0\n",
       "c                      4.7          3.2\n",
       "d                      4.6          3.1\n",
       "e                      5.0          3.6"
      ]
     },
     "execution_count": 31,
     "metadata": {},
     "output_type": "execute_result"
    }
   ],
   "source": [
    "df[['sepal_length','sepal_width']]"
   ]
  },
  {
   "cell_type": "markdown",
   "metadata": {},
   "source": [
    "iii. Display only the data for sample \"c\"."
   ]
  },
  {
   "cell_type": "code",
   "execution_count": 32,
   "metadata": {},
   "outputs": [
    {
     "data": {
      "text/plain": [
       "sample_label\n",
       "sepal_length    4.7\n",
       "sepal_width     3.2\n",
       "petal_length    1.3\n",
       "petal_width     0.2\n",
       "Name: c, dtype: float64"
      ]
     },
     "execution_count": 32,
     "metadata": {},
     "output_type": "execute_result"
    }
   ],
   "source": [
    "df.loc['c']"
   ]
  }
 ],
 "metadata": {
  "kernelspec": {
   "display_name": "Python 3",
   "language": "python",
   "name": "python3"
  },
  "language_info": {
   "codemirror_mode": {
    "name": "ipython",
    "version": 3
   },
   "file_extension": ".py",
   "mimetype": "text/x-python",
   "name": "python",
   "nbconvert_exporter": "python",
   "pygments_lexer": "ipython3",
   "version": "3.6.6"
  }
 },
 "nbformat": 4,
 "nbformat_minor": 2
}
