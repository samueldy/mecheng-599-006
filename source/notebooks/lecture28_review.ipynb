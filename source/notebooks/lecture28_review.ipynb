{
 "cells": [
  {
   "cell_type": "markdown",
   "metadata": {},
   "source": [
    "# 28) Course review"
   ]
  },
  {
   "cell_type": "markdown",
   "metadata": {},
   "source": [
    "What is data science?"
   ]
  },
  {
   "cell_type": "markdown",
   "metadata": {},
   "source": [
    "Why did you learn about bash and vim?"
   ]
  },
  {
   "cell_type": "markdown",
   "metadata": {},
   "source": [
    "What do the following utilities do?\n",
    "\n",
    "- grep\n",
    "- awk\n",
    "- sed\n",
    "- tail"
   ]
  },
  {
   "cell_type": "markdown",
   "metadata": {},
   "source": [
    "Did you like my running the class from Jupyter notebooks?"
   ]
  },
  {
   "cell_type": "markdown",
   "metadata": {},
   "source": [
    "What are some benefits of programming in Python?"
   ]
  },
  {
   "cell_type": "markdown",
   "metadata": {},
   "source": [
    "What is an example of valid Python syntax for a print statement?"
   ]
  },
  {
   "cell_type": "markdown",
   "metadata": {},
   "source": [
    "Write a simple Python function using valid syntax."
   ]
  },
  {
   "cell_type": "markdown",
   "metadata": {},
   "source": [
    "What are some Python datatypes? Are there any questions about them?"
   ]
  },
  {
   "cell_type": "markdown",
   "metadata": {},
   "source": [
    "Are there any remaining questions about slicing and indexing?"
   ]
  },
  {
   "cell_type": "markdown",
   "metadata": {},
   "source": [
    "Are there any questions about Git and Github?"
   ]
  },
  {
   "cell_type": "markdown",
   "metadata": {},
   "source": [
    "I modify some part of a Git repository (e.g. I edit this ipynb), what is the process for me to get those changes up onto the GitHub repo? How will you get those onto your local computer?"
   ]
  },
  {
   "cell_type": "markdown",
   "metadata": {},
   "source": [
    "How can I get a previous repo state with Git?"
   ]
  },
  {
   "cell_type": "markdown",
   "metadata": {},
   "source": [
    "How does Git handle different contributors to the same repo?"
   ]
  },
  {
   "cell_type": "markdown",
   "metadata": {},
   "source": [
    "Why might I want Git to ignore some files, and how do I get Git to ignore them?"
   ]
  },
  {
   "cell_type": "markdown",
   "metadata": {},
   "source": [
    "What are advantages of using the CookieCutter library and templates?"
   ]
  },
  {
   "cell_type": "markdown",
   "metadata": {},
   "source": [
    "What is an IDE and what are the advantages of using one?"
   ]
  },
  {
   "cell_type": "markdown",
   "metadata": {},
   "source": [
    "What is the purpose of unit testing? What kinds of errors should you test for? How would I know at a glance that a test didn't actually test anything--in other words, what syntax must be present for a test to actually test something?"
   ]
  },
  {
   "cell_type": "markdown",
   "metadata": {},
   "source": [
    "List three properties of NumPy arrays."
   ]
  },
  {
   "cell_type": "markdown",
   "metadata": {},
   "source": [
    "What does NaN stand for, and what is its type?"
   ]
  },
  {
   "cell_type": "markdown",
   "metadata": {},
   "source": [
    "How do you perform matrix multiplication by hand and with NumPy?"
   ]
  },
  {
   "cell_type": "markdown",
   "metadata": {},
   "source": [
    "What is the characteristic determinant and what is it used for?"
   ]
  },
  {
   "cell_type": "markdown",
   "metadata": {},
   "source": [
    "Describe a Pandas DataFrame--that is, what do you remember about them?"
   ]
  },
  {
   "cell_type": "markdown",
   "metadata": {},
   "source": [
    "What are the main functions of any database?"
   ]
  },
  {
   "cell_type": "markdown",
   "metadata": {},
   "source": [
    "What are some suggested guidelines for making \"better\" scientific figures?"
   ]
  },
  {
   "cell_type": "markdown",
   "metadata": {},
   "source": [
    "Why bother with Seaborn when you already have MatPlotLib?"
   ]
  },
  {
   "cell_type": "markdown",
   "metadata": {},
   "source": [
    "In the context of ML, what is a feature? A target?"
   ]
  },
  {
   "cell_type": "markdown",
   "metadata": {},
   "source": [
    "What type of ML method is linear regression? PCA?"
   ]
  },
  {
   "cell_type": "markdown",
   "metadata": {},
   "source": [
    "What is cross-validation? What is it used for?"
   ]
  },
  {
   "cell_type": "markdown",
   "metadata": {},
   "source": [
    "Why would you want to and how can you tune ML model complexity?"
   ]
  },
  {
   "cell_type": "markdown",
   "metadata": {},
   "source": [
    "How can you check if you are using an optimal amount of training data for your ML model?"
   ]
  },
  {
   "cell_type": "markdown",
   "metadata": {},
   "source": [
    "What kind of ML model is Naive Bayes? What are some assumptions that go into the Naive Bayes models? When do they tend to work well?"
   ]
  },
  {
   "cell_type": "markdown",
   "metadata": {},
   "source": [
    "### FYI: More resources for individual study!\n",
    "\n",
    "The University of Michigan has an agreement with Coursera that allows UMichigan affliates to take some of its classes for free (looks to be those contributed by UMich faculty). Check out https://www.coursera.org/umich. "
   ]
  }
 ],
 "metadata": {
  "kernelspec": {
   "display_name": "Python 3",
   "language": "python",
   "name": "python3"
  },
  "language_info": {
   "codemirror_mode": {
    "name": "ipython",
    "version": 3
   },
   "file_extension": ".py",
   "mimetype": "text/x-python",
   "name": "python",
   "nbconvert_exporter": "python",
   "pygments_lexer": "ipython3",
   "version": "3.6.6"
  }
 },
 "nbformat": 4,
 "nbformat_minor": 2
}
