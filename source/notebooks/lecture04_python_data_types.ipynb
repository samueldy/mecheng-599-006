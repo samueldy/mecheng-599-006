{
 "cells": [
  {
   "cell_type": "markdown",
   "metadata": {},
   "source": [
    "# 4) Data types in python"
   ]
  },
  {
   "cell_type": "markdown",
   "metadata": {},
   "source": [
    "Related text:\n",
    "\n",
    "- https://jakevdp.github.io/WhirlwindTourOfPython/index.html<br>\n",
    "- https://jakevdp.github.io/PythonDataScienceHandbook/\n",
    "\n",
    "We will run some python today using variables and libraries."
   ]
  },
  {
   "cell_type": "markdown",
   "metadata": {},
   "source": [
    "## Comments, Integers and floats\n",
    "\n",
    "As you saw last time, basic math can be performed without importing any libraries, and python will decide if you have a integer or a float.\n",
    "\n",
    "As engineers know, tracking units are of utmost importance. Comments can be a great way to both explain your code and track units."
   ]
  },
  {
   "cell_type": "code",
   "execution_count": 13,
   "metadata": {
    "collapsed": true
   },
   "outputs": [
    {
     "name": "stdout",
     "output_type": "stream",
     "text": [
      "At 300.0 K, 0.08% of molecules have energy >= 5.0 kcal/mol.\n"
     ]
    }
   ],
   "source": [
    "\"\"\"\n",
    "Blocks of comments can be placed between lines containing three \n",
    "double-quotes, like this. \n",
    "They often appear at the beginning of a function, explaining what the \n",
    "   function does and noting the expected input and output. \n",
    "   We'll come back to this later.\n",
    "This is an example of commenting and using variables in a formula.\n",
    "We'll use more advance math (exponents, etc.) so we'll import numpy, \n",
    "   an excellent math library.\n",
    "\"\"\"\n",
    "import numpy as np  #it is very common to import numpy as the shorthand alias, 'np'\n",
    "from scipy import special  # we can also import just part of a library; this is needed to get erfc\n",
    "\n",
    "# One of the most important syntax characters to know: '#' is the comment character\n",
    "# They can start a line of comments only, or comments can follow code, as shown above and below.\n",
    "\n",
    "# I'm old-school in certain ways; I explicity make values floats that \n",
    "#   I want treated as such, even if python will treat an integer \n",
    "#   variable as a float when doing the math\n",
    "gas_constant = 0.00198588  # the ideal gas constant in units of kcal / (g-mol K)\n",
    "temp = 300.  # temp in K\n",
    "energy = 5.  # kcal/mol\n",
    "\n",
    "# Save a little computation by creating a term that is repeatedly needed\n",
    "ea_over_rt = energy / (gas_constant * temp)\n",
    "\n",
    "# The (integrated form of the) Maxwell-Boltzmann distribution for the \n",
    "#    fraction of molecules with energy of at least E\n",
    "# If consistent units were used, they should cancel out in each term \n",
    "#    (fractions are unitless!)\n",
    "frac_mol = np.sqrt(4. / np.pi * ea_over_rt) * np.exp(-ea_over_rt) + special.erfc(np.sqrt(ea_over_rt))\n",
    "print(\"At {} K, {}% of molecules have energy >= {} kcal/mol.\".format(temp, round(frac_mol*100.,2), energy))"
   ]
  },
  {
   "cell_type": "markdown",
   "metadata": {},
   "source": [
    "# Function\n",
    "\n",
    "$$f_\\textrm{mol} = \\sqrt{\\frac{4}{\\pi}\\frac{E_A}{RT}} \\exp\\left[-\\frac{E_A}{RT}\\right] + \\mathrm{erfc} \\left[\\sqrt{\\frac{E_A}{RT}}\\right] $$\n",
    "\n",
    "=  "
   ]
  },
  {
   "cell_type": "markdown",
   "metadata": {},
   "source": [
    "### Identifying and changing types\n",
    "\n",
    "As has already appeared in ipynb's for this course, we can find out the type of any variable by using the built-in global function `type()`."
   ]
  },
  {
   "cell_type": "code",
   "execution_count": 14,
   "metadata": {
    "collapsed": true
   },
   "outputs": [
    {
     "name": "stdout",
     "output_type": "stream",
     "text": [
      "<class 'float'> <class 'float'>\n"
     ]
    }
   ],
   "source": [
    "print(type(temp), type(ea_over_rt))"
   ]
  },
  {
   "cell_type": "markdown",
   "metadata": {},
   "source": [
    "We can also change the variable type with functions such as:"
   ]
  },
  {
   "cell_type": "code",
   "execution_count": 15,
   "metadata": {
    "collapsed": true
   },
   "outputs": [
    {
     "name": "stdout",
     "output_type": "stream",
     "text": [
      "300 <class 'int'>\n",
      "300 <class 'str'>\n",
      "300.0 <class 'float'>\n",
      "300.0 <class 'str'>\n"
     ]
    }
   ],
   "source": [
    "temp = int(temp)\n",
    "print(temp, type(temp))\n",
    "temp = str(temp)\n",
    "print(temp, type(temp))\n",
    "temp = float(temp)\n",
    "print(temp, type(temp))\n",
    "temp = str(temp)\n",
    "print(temp, type(temp))"
   ]
  },
  {
   "cell_type": "markdown",
   "metadata": {},
   "source": [
    "The ability to change numbers to strings and strings to numbers can be useful when reading and writing variables. "
   ]
  },
  {
   "cell_type": "markdown",
   "metadata": {},
   "source": [
    "### A few more syntax tips\n",
    "\n",
    "As with many other languages, there are shortcut ways of performing simple math on a variable:"
   ]
  },
  {
   "cell_type": "code",
   "execution_count": 16,
   "metadata": {
    "collapsed": true
   },
   "outputs": [
    {
     "name": "stdout",
     "output_type": "stream",
     "text": [
      "x = 4 <class 'int'>\n",
      "x = 7 <class 'int'>\n",
      "x = 6 <class 'int'>\n",
      "x = 18 <class 'int'>\n"
     ]
    }
   ],
   "source": [
    "x = 4\n",
    "print(\"x =\", x, type(x))\n",
    "x += 3  # same as x = x + 3.\n",
    "print(\"x =\", x, type(x))\n",
    "x -= 1  # same as x = x - 1.\n",
    "print(\"x =\", x, type(x))\n",
    "x *= 3  # same as x = x * 3.\n",
    "print(\"x =\", x, type(x))\n",
    "x /= 3  # same as x = x * 3.\n",
    "print(\"x =\", x, type(x))\n",
    "x != 3  # same as x = x * 3.\n",
    "print(\"x =\", x, type(x))"
   ]
  },
  {
   "cell_type": "markdown",
   "metadata": {},
   "source": [
    "The combinations of operators and the equals sign changes the pointers. What do you expect the following output to be?"
   ]
  },
  {
   "cell_type": "code",
   "execution_count": 17,
   "metadata": {},
   "outputs": [
    {
     "name": "stdout",
     "output_type": "stream",
     "text": [
      "x = 16 and y = 8\n"
     ]
    }
   ],
   "source": [
    "my_favorite_number = 8\n",
    "x = my_favorite_number\n",
    "y = x\n",
    "x *= 2\n",
    "print(\"x =\", x, \"and y =\", y)"
   ]
  },
  {
   "cell_type": "markdown",
   "metadata": {},
   "source": [
    "Note that the end of all statements is the end of the line, unlike C or C++ which ends statements with `;`. \n",
    "You can force a line to wrap by using the `\\` key. Even more convenient: enclose the expression in parenthesis. "
   ]
  },
  {
   "cell_type": "code",
   "execution_count": 18,
   "metadata": {
    "collapsed": true
   },
   "outputs": [
    {
     "name": "stdout",
     "output_type": "stream",
     "text": [
      "y =  21.0 <class 'float'>\n",
      "y =  21 <class 'int'>\n",
      "y =  21 <class 'int'>\n"
     ]
    }
   ],
   "source": [
    "y = 1 + 2 + 3 + 4 + 5 + 6.\n",
    "print(\"y = \", y, type(y))\n",
    "y = 1 + 2 + 3 +\\\n",
    "    4 + 5 + 6\n",
    "print(\"y = \", y, type(y))\n",
    "y = (1 + 2 + 3 + \n",
    "     4 + 5 + 6)\n",
    "print(\"y = \", y, type(y))"
   ]
  },
  {
   "cell_type": "markdown",
   "metadata": {},
   "source": [
    "In the code above, note the indentation. As you will see even more in the future, white space is meaningful in python.\n",
    "\n",
    "The convention is to use four spaces for indentation (and yes, there can be blocks inside blocks; the meaningful indentation can make it much easier to read!). Note that many programs automatically convert a tab to four spaces. Check whether that is happening when you tab in your notebook!"
   ]
  },
  {
   "cell_type": "code",
   "execution_count": 19,
   "metadata": {
    "collapsed": true
   },
   "outputs": [
    {
     "name": "stdout",
     "output_type": "stream",
     "text": [
      "i = 0\n",
      "i = 1\n",
      "i = 2\n",
      "i = 3\n",
      "i = 4\n",
      "i = 5\n",
      "i = 6\n",
      "i = 7\n",
      "i = 8\n",
      "i = 9\n",
      "total = 45\n"
     ]
    }
   ],
   "source": [
    "total = 0\n",
    "for i in range(10):\n",
    "    # indentation indicates code block, and the first line of the block ends with ':'\n",
    "    print(\"i =\", i)\n",
    "    total += i\n",
    "\n",
    "print(\"total =\", total)"
   ]
  },
  {
   "cell_type": "code",
   "execution_count": 20,
   "metadata": {
    "collapsed": true
   },
   "outputs": [
    {
     "name": "stdout",
     "output_type": "stream",
     "text": [
      "i = 0\n",
      "total = 0\n",
      "i = 1\n",
      "total = 1\n",
      "i = 2\n",
      "total = 3\n",
      "i = 3\n",
      "total = 6\n",
      "i = 4\n",
      "total = 10\n",
      "i = 5\n",
      "total = 15\n",
      "i = 6\n",
      "total = 21\n",
      "i = 7\n",
      "total = 28\n",
      "i = 8\n",
      "total = 36\n",
      "i = 9\n",
      "total = 45\n"
     ]
    }
   ],
   "source": [
    "# Note the difference between this and the above code block.\n",
    "total = 0\n",
    "for i in range(10):\n",
    "    # indentation indicates code block, and the first line of the block ends with ':'\n",
    "    print(\"i =\", i)\n",
    "    total += i\n",
    "\n",
    "    print(\"total =\", total)"
   ]
  },
  {
   "cell_type": "markdown",
   "metadata": {},
   "source": [
    "White space within lines will not affect the output. However, best practice is to put one space between each term and each operator.\n",
    "\n",
    "Best practices in the python community are codified in the [PEP 8 style guide for python code](https://www.python.org/dev/peps/pep-0008/)."
   ]
  },
  {
   "cell_type": "code",
   "execution_count": 21,
   "metadata": {
    "collapsed": true
   },
   "outputs": [
    {
     "name": "stdout",
     "output_type": "stream",
     "text": [
      "y =  21 <class 'int'>\n",
      "y =  21 <class 'int'>\n",
      "y =  21 <class 'int'>\n"
     ]
    }
   ],
   "source": [
    "y=1+2+3+4+5+6  # saves space but is non-standard\n",
    "print(\"y = \", y, type(y))\n",
    "y       =   1    +2     + 3   +        4  + 5    + 6  # this does not help readability\n",
    "print(\"y = \", y, type(y))\n",
    "y = 1 + 2 + 3 + 4 + 5 + 6  # Much better readability. Follow this lead!\n",
    "print(\"y = \", y, type(y))"
   ]
  },
  {
   "cell_type": "markdown",
   "metadata": {},
   "source": [
    "###  Other built-in operators\n",
    "\n",
    "Given the amount of material to cover in this class, we can't spend time going over all of the built-in operators. Note that I am skipping built-in math operators including modulo, floor division, or bitwise operations. If you want to learn about them, you can start with [this tutorial](https://jakevdp.github.io/WhirlwindTourOfPython/04-semantics-operators.html) or always just ask the internet. \n",
    "\n",
    "Comparison operators (== for equal to, >, <, !=, >=, and <=) will come up when we get to more into writing our own functions\n",
    "\n",
    "Boolean operators are very readable in python. The options are `True` and `False` (not the capitalization), and the standard operations are simply `and`, `or`, and `not`. For example:"
   ]
  },
  {
   "cell_type": "code",
   "execution_count": 22,
   "metadata": {},
   "outputs": [
    {
     "data": {
      "text/plain": [
       "True"
      ]
     },
     "execution_count": 22,
     "metadata": {},
     "output_type": "execute_result"
    }
   ],
   "source": [
    "x = 4\n",
    "(x < 6) and (x >= 2)"
   ]
  },
  {
   "cell_type": "markdown",
   "metadata": {},
   "source": [
    "### Parentheses Are for Grouping or Calling (or tuples! covered below)\n",
    "\n",
    "You've seen two ways of using parenthesis above: grouping statements or calling functions. \n",
    "\n",
    "The terms inside the parenthesis used to call a function (like the `print` function below) are called *arguments*. The number of arguments that the function takes depends on the function. In the case of the `print` function, it will print as many arguments as you give it. However, the function `type` only takes certain arguments (here, we just give it one argument; it is [possible to give it 2 specific additional arguments](https://docs.python.org/3/library/functions.html#type) but that is unusual and out of scope for this course)."
   ]
  },
  {
   "cell_type": "code",
   "execution_count": 23,
   "metadata": {
    "collapsed": true
   },
   "outputs": [
    {
     "name": "stdout",
     "output_type": "stream",
     "text": [
      "y =  6 <class 'int'>\n",
      "y =  8 <class 'int'>\n",
      "y =  5 <class 'int'>\n"
     ]
    }
   ],
   "source": [
    "y = (2 + 1 + 3)\n",
    "print(\"y = \", y, type(y))\n",
    "y = 2 * (1 + 3)\n",
    "print(\"y = \", y, type(y))\n",
    "y = (2 * 1) + 3\n",
    "print(\"y = \", y, type(y))"
   ]
  },
  {
   "cell_type": "markdown",
   "metadata": {},
   "source": [
    "## Other collections in python: lists, tuples, and dicts\n",
    "\n",
    "A collection of values (strings, ints, floats, ...) can be stored as types of collections.\n",
    "\n",
    "The main kinds are tuples, lists, and dicts. You've already seen lists, remember?"
   ]
  },
  {
   "cell_type": "code",
   "execution_count": 24,
   "metadata": {
    "collapsed": true
   },
   "outputs": [
    {
     "name": "stdout",
     "output_type": "stream",
     "text": [
      "<class 'list'>\n"
     ]
    }
   ],
   "source": [
    "print(type(In))"
   ]
  },
  {
   "cell_type": "markdown",
   "metadata": {},
   "source": [
    "New lists can be defined without any items in them yet (an empty list) or with items. They do not have to be of the same type. Python makes a list when it sees square brackets. Items in a list do not have to be of the same type.\n",
    "\n",
    "The built-in `len()` function will return the length of the function."
   ]
  },
  {
   "cell_type": "code",
   "execution_count": 25,
   "metadata": {
    "collapsed": true
   },
   "outputs": [
    {
     "name": "stdout",
     "output_type": "stream",
     "text": [
      "[] <class 'list'> 0\n",
      "list_2 = [4, 5.2, 8, 'ten', []], has type <class 'list'>, and length 5\n"
     ]
    }
   ],
   "source": [
    "list_1 = []\n",
    "print(list_1, type(list_1), len(list_1))\n",
    "list_2 = [4, 5.2, 8, 'ten', list_1]\n",
    "print(\"list_2 = {}, has type {}, and length {}\".format(list_2, type(list_2), len(list_2)))"
   ]
  },
  {
   "cell_type": "markdown",
   "metadata": {},
   "source": [
    "As we also previously saw, we can access entries in a list. Remember that counting starts with zero. Negative numbers access items from the end of the list.\n",
    "\n",
    "Items in a list can be changed."
   ]
  },
  {
   "cell_type": "code",
   "execution_count": 26,
   "metadata": {
    "collapsed": true
   },
   "outputs": [
    {
     "name": "stdout",
     "output_type": "stream",
     "text": [
      "At the moment, the full list_2 =  [4, 5.2, 8, 'ten', []]\n",
      "4 <class 'int'>\n",
      "5.2 <class 'float'>\n",
      "[] <class 'list'>\n",
      "ten <class 'str'>\n",
      "10 <class 'int'>\n",
      "2 <class 'int'>\n",
      "Now, the full list_2 =  [4, 5.2, 8, 10, 2]\n",
      "[4, 5.2]\n",
      "[5.2, 8]\n",
      "[8, 10, 2]\n"
     ]
    }
   ],
   "source": [
    "print(\"At the moment, the full list_2 = \", list_2)\n",
    "print(list_2[0], type(list_2[0]))\n",
    "print(list_2[1], type(list_2[1]))\n",
    "print(list_2[-1], type(list_2[-1]))\n",
    "print(list_2[-2], type(list_2[-2]))\n",
    "list_2[-2] = 10\n",
    "print(list_2[-2], type(list_2[-2]))\n",
    "list_2[-1] = 2\n",
    "print(list_2[-1], type(list_2[-1]))\n",
    "print(\"Now, the full list_2 = \", list_2)\n",
    "print(list_2[:2])\n",
    "print(list_2[1:3])\n",
    "print(list_2[2:])"
   ]
  },
  {
   "cell_type": "markdown",
   "metadata": {},
   "source": [
    "### Built-in methods\n",
    "\n",
    "In addition to be able to use functions like `print` and `type` on lists, list have built-in *methods*. These are particular actions that python will know how to perform on any list. Here are a few examples; more can be found many places, including [here](https://docs.python.org/3/tutorial/datastructures.html#more-on-lists).\n",
    "\n",
    "These methods are followed by parenthesis (has parenthesis like a function) and may or may not need arguments."
   ]
  },
  {
   "cell_type": "code",
   "execution_count": 27,
   "metadata": {
    "collapsed": true
   },
   "outputs": [
    {
     "name": "stdout",
     "output_type": "stream",
     "text": [
      "list_2 =  [4, 5.2, 8, 10, 2]\n",
      "list_2 =  [2, 4, 5.2, 8, 10]\n",
      "list_2 =  [2, 4, 5.2, 8, 10, 7.1]\n",
      "list_2 =  [2, 4, 5.2, 8, 10, 7.1, 5.3, 9.2, 4.8]\n"
     ]
    }
   ],
   "source": [
    "print(\"list_2 = \", list_2)\n",
    "list_2.sort()\n",
    "print(\"list_2 = \", list_2)\n",
    "list_2.append(7.1)\n",
    "print(\"list_2 = \", list_2)\n",
    "list_2.extend([5.3, 9.2, 4.8])\n",
    "print(\"list_2 = \", list_2)"
   ]
  },
  {
   "cell_type": "markdown",
   "metadata": {},
   "source": [
    "If you accidentally try to make a list by using parenthesis, you'll get a tuple instead!"
   ]
  },
  {
   "cell_type": "code",
   "execution_count": 28,
   "metadata": {
    "collapsed": true
   },
   "outputs": [
    {
     "name": "stdout",
     "output_type": "stream",
     "text": [
      "<class 'tuple'>\n"
     ]
    }
   ],
   "source": [
    "not_a_list = ([4.3, 5.2, 8,\n",
    "               2, 10], [3])\n",
    "print(type(not_a_list))"
   ]
  },
  {
   "cell_type": "markdown",
   "metadata": {},
   "source": [
    "Some things are the same about tuples and lists, like how to print parts of them:"
   ]
  },
  {
   "cell_type": "code",
   "execution_count": 29,
   "metadata": {
    "collapsed": true
   },
   "outputs": [
    {
     "name": "stdout",
     "output_type": "stream",
     "text": [
      "4.3 <class 'float'>\n",
      "10 <class 'int'>\n",
      "(4.3, 5.2)\n",
      "(5.2, 8)\n",
      "(8, 2, 10)\n"
     ]
    }
   ],
   "source": [
    "print(not_a_list[0], type(not_a_list[0]))\n",
    "print(not_a_list[-1], type(not_a_list[-1]))\n",
    "print(not_a_list[:2])\n",
    "print(not_a_list[1:3])\n",
    "print(not_a_list[2:])"
   ]
  },
  {
   "cell_type": "markdown",
   "metadata": {},
   "source": [
    "The big difference is that tuples cannot be changed (they are immutable); you cannot change the value of an existing item or add new items."
   ]
  },
  {
   "cell_type": "code",
   "execution_count": 30,
   "metadata": {
    "collapsed": true
   },
   "outputs": [
    {
     "ename": "TypeError",
     "evalue": "'tuple' object does not support item assignment",
     "output_type": "error",
     "traceback": [
      "\u001b[1;31m---------------------------------------------------------------------------\u001b[0m",
      "\u001b[1;31mTypeError\u001b[0m                                 Traceback (most recent call last)",
      "\u001b[1;32m<ipython-input-30-9decdff8728a>\u001b[0m in \u001b[0;36m<module>\u001b[1;34m()\u001b[0m\n\u001b[1;32m----> 1\u001b[1;33m \u001b[0mnot_a_list\u001b[0m\u001b[1;33m[\u001b[0m\u001b[1;36m0\u001b[0m\u001b[1;33m]\u001b[0m \u001b[1;33m=\u001b[0m \u001b[1;36m11.11\u001b[0m\u001b[1;33m\u001b[0m\u001b[0m\n\u001b[0m",
      "\u001b[1;31mTypeError\u001b[0m: 'tuple' object does not support item assignment"
     ]
    }
   ],
   "source": [
    "not_a_list[0] = 11.11"
   ]
  },
  {
   "cell_type": "code",
   "execution_count": 36,
   "metadata": {
    "collapsed": true
   },
   "outputs": [
    {
     "ename": "AttributeError",
     "evalue": "'tuple' object has no attribute 'append'",
     "output_type": "error",
     "traceback": [
      "\u001b[1;31m---------------------------------------------------------------------------\u001b[0m",
      "\u001b[1;31mAttributeError\u001b[0m                            Traceback (most recent call last)",
      "\u001b[1;32m<ipython-input-36-bba50ad0c2f5>\u001b[0m in \u001b[0;36m<module>\u001b[1;34m()\u001b[0m\n\u001b[1;32m----> 1\u001b[1;33m \u001b[0mnot_a_list\u001b[0m\u001b[1;33m.\u001b[0m\u001b[0mappend\u001b[0m\u001b[1;33m(\u001b[0m\u001b[1;36m5.5\u001b[0m\u001b[1;33m)\u001b[0m\u001b[1;33m\u001b[0m\u001b[0m\n\u001b[0m",
      "\u001b[1;31mAttributeError\u001b[0m: 'tuple' object has no attribute 'append'"
     ]
    }
   ],
   "source": [
    "not_a_list.append(5.5)"
   ]
  },
  {
   "cell_type": "markdown",
   "metadata": {},
   "source": [
    "However, a tuple can contain mutable items."
   ]
  },
  {
   "cell_type": "code",
   "execution_count": 37,
   "metadata": {
    "collapsed": true
   },
   "outputs": [
    {
     "name": "stdout",
     "output_type": "stream",
     "text": [
      "([], [1, 2, 3])\n",
      "([5], [1, 2, 3])\n",
      "([5], [1, 4, 3])\n"
     ]
    }
   ],
   "source": [
    "tuple_2 = ([], [1, 2, 3])\n",
    "print(tuple_2)\n",
    "tuple_2[0].append(5)\n",
    "print(tuple_2)\n",
    "tuple_2[-1][1] = 4\n",
    "print(tuple_2)"
   ]
  },
  {
   "cell_type": "markdown",
   "metadata": {},
   "source": [
    "Combinations of collections (lists of lists, tuples of lists, etc.) took my a while to wrap my head around. We'll have more practice in the future. Also, once we get past some of these basics, we'll get to even more fun material.\n",
    "\n",
    "*Next up:* more on variables and collections"
   ]
  }
 ],
 "metadata": {
  "kernelspec": {
   "display_name": "Python 3",
   "language": "python",
   "name": "python3"
  },
  "language_info": {
   "codemirror_mode": {
    "name": "ipython",
    "version": 3
   },
   "file_extension": ".py",
   "mimetype": "text/x-python",
   "name": "python",
   "nbconvert_exporter": "python",
   "pygments_lexer": "ipython3",
   "version": "3.6.6"
  }
 },
 "nbformat": 4,
 "nbformat_minor": 2
}
