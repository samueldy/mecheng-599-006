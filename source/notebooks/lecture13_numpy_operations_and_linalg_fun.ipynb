{
 "cells": [
  {
   "cell_type": "markdown",
   "metadata": {},
   "source": [
    "## 13) More NumPy Plus Linear Algebra Fundamentals\n",
    "\n",
    "Related references:\n",
    "\n",
    "- https://jakevdp.github.io/PythonDataScienceHandbook/02.04-computation-on-arrays-aggregates.html\n",
    "- https://jakevdp.github.io/PythonDataScienceHandbook/02.05-computation-on-arrays-broadcasting.html\n",
    "- [Feature Engineering for Machine Learning](https://search.lib.umich.edu/catalog/record/016260792) \n",
    "- [The Manga Guide to Linear Algebra](https://www.safaribooksonline.com/library/view/the-manga-guide/9781457166730/)\n",
    "- [Introduction to Linear Algebra by Gilbert Strang](http://math.mit.edu/~gs/linearalgebra/)\n",
    "- [Advanced Engineering Mathematics by Erwin Kreyszig](https://search.lib.umich.edu/catalog/record/016256884)"
   ]
  },
  {
   "cell_type": "markdown",
   "metadata": {},
   "source": [
    "## First, reminder to submit evaluations\n",
    "\n",
    "You have until midnight tonight! As of Tuesday, 12/27 have completed the quiz I set up to self-report taking it, earning participation points."
   ]
  },
  {
   "cell_type": "markdown",
   "metadata": {},
   "source": [
    "## Second, let's discuss the individual project\n",
    "\n",
    "Details posted on Canvas and [Github](project_instructions.ipynb)."
   ]
  },
  {
   "cell_type": "markdown",
   "metadata": {},
   "source": [
    "## The simplicity of NumPy math\n",
    "\n",
    "As we've discussed, Numpy allows us to perform math with arrays without writing loops, speeding programs and programming. \n",
    "\n",
    "As always, array sizes must be compatible. Binary operations are performed on an element-by-element basis:"
   ]
  },
  {
   "cell_type": "code",
   "execution_count": null,
   "metadata": {},
   "outputs": [],
   "source": [
    "import numpy as np\n",
    "\n",
    "a = np.array([0, 1, 2])\n",
    "b = np.array([5, 5, 5])\n",
    "print(a + b)"
   ]
  },
  {
   "cell_type": "markdown",
   "metadata": {},
   "source": [
    "### Broadcasting: How NumPy will make compatible arrays\n",
    "\n",
    "We can also perform these operations with a scalar; NumPy will \"broadcast\" it to the correct size for the binary operation. In the case below, it will treat `5` as the ndarray `[5, 5, 5]` while never actually creating such an array."
   ]
  },
  {
   "cell_type": "code",
   "execution_count": null,
   "metadata": {
    "collapsed": true
   },
   "outputs": [],
   "source": [
    "print(a + 5)"
   ]
  },
  {
   "cell_type": "markdown",
   "metadata": {},
   "source": [
    "A visual to describe broadcasting:\n",
    "\n",
    "![From PythonDataScienceHandbook](images/lect13_broadcasting.png)\n",
    "\n",
    "The light boxes represent the broadcasted values: again, this extra memory is not actually allocated in the course of the operation, but it can be useful conceptually to imagine that it is."
   ]
  },
  {
   "cell_type": "markdown",
   "metadata": {},
   "source": [
    "As shown in the visual above, broadcasting can also be done in higher dimensions:"
   ]
  },
  {
   "cell_type": "code",
   "execution_count": null,
   "metadata": {},
   "outputs": [],
   "source": [
    "m = np.ones((3, 3))\n",
    "m + a"
   ]
  },
  {
   "cell_type": "code",
   "execution_count": null,
   "metadata": {},
   "outputs": [],
   "source": [
    "print(a)\n",
    "print(b.reshape((3, 1)))"
   ]
  },
  {
   "cell_type": "code",
   "execution_count": null,
   "metadata": {},
   "outputs": [],
   "source": [
    "a + b.reshape((3, 1))"
   ]
  },
  {
   "cell_type": "markdown",
   "metadata": {},
   "source": [
    "### More examples of NumPy's math knowledge"
   ]
  },
  {
   "cell_type": "code",
   "execution_count": null,
   "metadata": {
    "collapsed": true
   },
   "outputs": [],
   "source": [
    "x = [1, 2, 4, 10]\n",
    "print(\"x     =\", x)\n",
    "print(\"e^x   =\", np.exp(x))\n",
    "print(\"2^x   =\", np.exp2(x))\n",
    "print(\"3^x   =\", np.power(3, x))\n",
    "print(\"ln(x)    =\", np.log(x))\n",
    "print(\"log2(x)  =\", np.log2(x))\n",
    "print(\"log10(x) =\", np.log10(x))\n",
    "print(\"sum(x)   =\", np.sum(x))\n",
    "print(\"min(x)   =\", np.min(x))\n",
    "print(\"max(x)   =\", np.sum(x))\n",
    "print(\"mean(x)  =\", np.mean(x))\n",
    "print(\"std(x)   =\", np.std(x))"
   ]
  },
  {
   "cell_type": "markdown",
   "metadata": {},
   "source": [
    "### What about math with NaNs?\n",
    "\n",
    "NaN = not a number, and you can specify NaN with np.nan."
   ]
  },
  {
   "cell_type": "code",
   "execution_count": null,
   "metadata": {},
   "outputs": [],
   "source": [
    "m = np.random.random((3, 4))\n",
    "n = np.random.random((4, 3))\n",
    "m[2, 3] = np.nan\n",
    "print(m)"
   ]
  },
  {
   "cell_type": "code",
   "execution_count": null,
   "metadata": {},
   "outputs": [],
   "source": [
    "m + n.T"
   ]
  },
  {
   "cell_type": "markdown",
   "metadata": {},
   "source": [
    "Let's check if these other functions work with `np.nan`:"
   ]
  },
  {
   "cell_type": "code",
   "execution_count": null,
   "metadata": {},
   "outputs": [],
   "source": [
    "print(\"m     =\", m)\n",
    "print(\"e^m   =\", np.exp(m))\n",
    "print(\"2^m   =\", np.exp2(m))\n",
    "print(\"3^m   =\", np.power(3, m))\n",
    "print(\"ln(m)    =\", np.log(m))\n",
    "print(\"log2(m)  =\", np.log2(m))\n",
    "print(\"log10(m) =\", np.log10(m))\n",
    "print(\"sum(m)   =\", np.sum(m))\n",
    "print(\"min(m)   =\", np.min(m))\n",
    "print(\"max(m)   =\", np.max(m))\n",
    "print(\"mean(m)  =\", np.mean(m))\n",
    "print(\"std(m)   =\", np.std(m))"
   ]
  },
  {
   "cell_type": "markdown",
   "metadata": {},
   "source": [
    "Not all did, but there are \"NaN=safe\" versions of functions! That is, they ignore the NaNs and carry on.\n",
    "\n",
    "|Function Name      |   NaN-safe Version  | Description                                      |\n",
    "|-------------------|---------------------|--------------------------------------------------|\n",
    "| ``np.sum``        | ``np.nansum``       | Compute sum of elements                          |\n",
    "| ``np.prod``       | ``np.nanprod``      | Compute product of elements                      |\n",
    "| ``np.mean``       | ``np.nanmean``      | Compute mean of elements                         |\n",
    "| ``np.std``        | ``np.nanstd``       | Compute standard deviation                       |\n",
    "| ``np.var``        | ``np.nanvar``       | Compute variance                                 |\n",
    "| ``np.min``        | ``np.nanmin``       | Find minimum value                               |\n",
    "| ``np.max``        | ``np.nanmax``       | Find maximum value                               |\n",
    "| ``np.argmin``     | ``np.nanargmin``    | Find index of minimum value                      |\n",
    "| ``np.argmax``     | ``np.nanargmax``    | Find index of maximum value                      |\n",
    "| ``np.median``     | ``np.nanmedian``    | Compute median of elements                       |\n",
    "| ``np.percentile`` | ``np.nanpercentile``| Compute rank-based statistics of elements        |\n",
    "| ``np.any``        | N/A                 | Evaluate whether any elements are true (see note)|\n",
    "| ``np.all``        | N/A                 | Evaluate whether all elements are true (see note)|\n",
    "| N/A               | ``np.isnan``        | Test for NaN; returns a boolean array            |\n",
    "\n",
    "*Note*:  NaN, positive infinity and negative infinity evaluate to True because these are not equal to zero."
   ]
  },
  {
   "cell_type": "code",
   "execution_count": null,
   "metadata": {},
   "outputs": [],
   "source": [
    "print(\"sum(m)   =\", np.nansum(m))\n",
    "print(\"min(m)   =\", np.nanmin(m))\n",
    "print(\"max(m)   =\", np.nanmax(m))\n",
    "print(\"mean(m)  =\", np.nanmean(m))\n",
    "print(\"std(m)   =\", np.nanstd(m))"
   ]
  },
  {
   "cell_type": "markdown",
   "metadata": {},
   "source": [
    "These are a few examples, but just ask the Internet if there is anything you need and you'll get an answer, even if that is to use `scipy.special` as we had to for `erfc`. Let's focus on a particular kind of math NumPy knows well: linear algebra."
   ]
  },
  {
   "cell_type": "markdown",
   "metadata": {},
   "source": [
    "## Linear algebra"
   ]
  },
  {
   "cell_type": "markdown",
   "metadata": {},
   "source": [
    "### Overview\n",
    "\n",
    "![What is linear algebra](images/lect13_linear-alg.png)\n",
    "This and other comics from [The Manga Guide to Linear Algebra](https://www.safaribooksonline.com/library/view/the-manga-guide/9781457166730/)\n",
    "\n",
    "Importantly, they are great for solving linear equations, especially those with the same number unknowns and independent equations. They are great for turning problems into forms that are easily solved by computers!"
   ]
  },
  {
   "cell_type": "markdown",
   "metadata": {},
   "source": [
    "![What is linear algebra](images/lect13_linear-alg-overview.png)"
   ]
  },
  {
   "cell_type": "markdown",
   "metadata": {},
   "source": [
    "### Fundamentals\n",
    "\n",
    "#### Inverse Functions\n",
    "\n",
    "![Functions](images/lect13_onto-one2one.png)\n",
    "![Functions](images/lect13_inverse.png)"
   ]
  },
  {
   "cell_type": "markdown",
   "metadata": {},
   "source": [
    "#### Linear Transformations\n",
    "\n",
    "Let $x_i$ and $x_j$ be two arbitrary elements of the set $X$, $c$ be any real number, and $f$ be a function from $X$ to $Y$. $f$ is called a *linear transformation* from $X$ to $Y$ if is satisfies both:\n",
    "\n",
    "1. $f(x_i) + f(x_j) = f(x_i + x_j)$\n",
    "1. $cf(x_i) = f(cx_i)$\n",
    "\n",
    "![Functions](images/lect13_linear-trans.png)"
   ]
  },
  {
   "cell_type": "markdown",
   "metadata": {},
   "source": [
    "## Matrices\n",
    "\n",
    "![Matrices](images/lect13_matrix.png)\n",
    "![Matrices](images/lect13_matrix1.png)\n",
    "![Matrices](images/lect13_matrix2.png)\n",
    "![Matrices](images/lect13_matrix3.png)\n",
    "![Matrices](images/lect13_matrix4.png)\n",
    "![Matrices](images/lect13_matrix5.png)\n",
    "![Matrices](images/lect13_matrix6.png)"
   ]
  },
  {
   "cell_type": "markdown",
   "metadata": {},
   "source": [
    "### Matrix Addition\n",
    "\n",
    "![Matrices](images/lect13_matrix7.png)"
   ]
  },
  {
   "cell_type": "code",
   "execution_count": null,
   "metadata": {},
   "outputs": [],
   "source": [
    "a = np.array([[10, 10]])\n",
    "b = np.array([[3, 6]])\n",
    "print(a, b)"
   ]
  },
  {
   "cell_type": "code",
   "execution_count": null,
   "metadata": {},
   "outputs": [],
   "source": [
    "print(a - b)"
   ]
  },
  {
   "cell_type": "markdown",
   "metadata": {},
   "source": [
    "### Scalar Multiplication\n",
    "\n",
    "![Matrices](images/lect13_matrix8.png)"
   ]
  },
  {
   "cell_type": "code",
   "execution_count": null,
   "metadata": {},
   "outputs": [],
   "source": [
    "c = np.arange(1, 7).reshape((3, 2))\n",
    "print(c)"
   ]
  },
  {
   "cell_type": "code",
   "execution_count": null,
   "metadata": {},
   "outputs": [],
   "source": [
    "print(10 * c)"
   ]
  },
  {
   "cell_type": "markdown",
   "metadata": {},
   "source": [
    "### Matrix Multiplication\n",
    "\n",
    "![Matrices](images/lect13_matrix9alt.png)"
   ]
  },
  {
   "cell_type": "markdown",
   "metadata": {},
   "source": [
    "![Matrices](images/lect13_matrix10.png)"
   ]
  },
  {
   "cell_type": "code",
   "execution_count": null,
   "metadata": {},
   "outputs": [],
   "source": [
    "d = np.array([[8, -3], [2, 1]])\n",
    "e = np.array([[3, 1], [1, 2]])\n",
    "print(d)\n",
    "print(e)"
   ]
  },
  {
   "cell_type": "code",
   "execution_count": null,
   "metadata": {},
   "outputs": [],
   "source": [
    "print(d * e)\n",
    "print(np.multiply(e, d))"
   ]
  },
  {
   "cell_type": "code",
   "execution_count": null,
   "metadata": {},
   "outputs": [],
   "source": [
    "np.matmul(d, e)"
   ]
  },
  {
   "cell_type": "code",
   "execution_count": null,
   "metadata": {},
   "outputs": [],
   "source": [
    "np.matmul(e, d)"
   ]
  },
  {
   "cell_type": "markdown",
   "metadata": {},
   "source": [
    "#### Cautions\n",
    "\n",
    "1. In general $ \\mathbf{AB} \\neq \\mathbf{BA}$\n",
    "1. $\\mathbf{AB} = 0 $ does not necessarily imply that $\\mathbf{A} = 0 $ or $\\mathbf{B} = 0 $ or $\\mathbf{BA} = 0 $\n",
    "1. $\\mathbf{AC} = \\mathbf{AD} $ does not necessarily imply that $\\mathbf{C} = \\mathbf{D} $, even when $\\mathbf{A} \\neq 0 $\n",
    "\n",
    "(more about this later)"
   ]
  },
  {
   "cell_type": "code",
   "execution_count": null,
   "metadata": {},
   "outputs": [],
   "source": [
    "f = np.array([[1, 1], [2, 2]])\n",
    "g = np.array([[-1, 1], [1, -1]])\n",
    "print(f)\n",
    "print(g)"
   ]
  },
  {
   "cell_type": "code",
   "execution_count": null,
   "metadata": {},
   "outputs": [],
   "source": [
    "np.matmul(f, g)"
   ]
  },
  {
   "cell_type": "code",
   "execution_count": null,
   "metadata": {},
   "outputs": [],
   "source": [
    "np.matmul(g, f)"
   ]
  },
  {
   "cell_type": "code",
   "execution_count": null,
   "metadata": {},
   "outputs": [],
   "source": [
    "h = np.array([[2, 1], [2, 2]])\n",
    "k = np.array([[3, 0], [1, 3]])\n",
    "print(f)\n",
    "print(h)\n",
    "print(k)"
   ]
  },
  {
   "cell_type": "code",
   "execution_count": null,
   "metadata": {},
   "outputs": [],
   "source": [
    "print(np.matmul(f, h))\n",
    "print(np.matmul(f, k))"
   ]
  },
  {
   "cell_type": "markdown",
   "metadata": {},
   "source": [
    "#### Multiplication properties of numbers that do hold true for matrices\n",
    "\n",
    "1. $\\mathbf{A}(\\mathbf{BC}) = (\\mathbf{AB})\\mathbf{C} = \\mathbf{ABC}$\n",
    "1. $k\\mathbf{AB} = \\mathbf{A}k\\mathbf{B}$\n",
    "1. $(\\mathbf{A} + \\mathbf{B})\\mathbf{C} = \\mathbf{AC} + \\mathbf{BC}$\n",
    "1. $\\mathbf{C}(\\mathbf{A} + \\mathbf{B}) = \\mathbf{CA} + \\mathbf{CB}$"
   ]
  },
  {
   "cell_type": "markdown",
   "metadata": {},
   "source": [
    "### Inner product of vectors\n",
    "\n",
    "When an $m\\times 1$ matrix (aka a row vector) is multiplied by a $ 1 \\times m$ matrix (aka a column vector), we get a $1 \\times 1$ product, called the *inner product* or *dot product*, denoted $\\mathbf{a} \\bullet \\mathbf{b}$."
   ]
  },
  {
   "cell_type": "code",
   "execution_count": null,
   "metadata": {},
   "outputs": [],
   "source": [
    "np.dot([4, -1, 5], [2, 5, 8])"
   ]
  },
  {
   "cell_type": "raw",
   "metadata": {},
   "source": [
    "Every entry of $\\mathbf{C} =\\mathbf{AB}$ is an inner product (dot product):\n",
    "$$c_{jk} = \\mathbf{a}_j \\bullet \\mathbf{b}_k = (j\\text{th row of }\\mathbf{A}) \\bullet (k\\text{th column of }\\mathbf{B})$$"
   ]
  },
  {
   "cell_type": "markdown",
   "metadata": {},
   "source": [
    "The power of matrix multiplication is in linear transformations. That topic will come after we finish matrices and talk about vectors."
   ]
  },
  {
   "cell_type": "markdown",
   "metadata": {},
   "source": [
    "### Special Matrices\n",
    "\n",
    "An $n \\times n$ matrix is called a square matrix. All others are rectangular matrices.\n",
    "\n",
    "![Matrices](images/lect13_matrix11.png)"
   ]
  },
  {
   "cell_type": "markdown",
   "metadata": {},
   "source": [
    "We already covered 1 and 2. An interesting tidbit: the transpose of a product equals the product of the transposed factors, taken in reverse order:\n",
    "$$(\\mathbf{A} \\mathbf{B})^T = \\mathbf{B}^T \\mathbf{A}^T $$"
   ]
  },
  {
   "cell_type": "markdown",
   "metadata": {},
   "source": [
    "Would you wager a guess as to:\n",
    "\n",
    "- What a symmetric matrix is? \n",
    "- A skew-symmetric matrix? \n",
    "- What property must they have?"
   ]
  },
  {
   "cell_type": "markdown",
   "metadata": {},
   "source": [
    "**Answers:**\n",
    "\n",
    "- $\\mathbf{A}^T = \\mathbf{A}$ \n",
    "- $\\mathbf{A}^T = -\\mathbf{A}$ \n",
    "- They must be square matrices"
   ]
  },
  {
   "cell_type": "markdown",
   "metadata": {},
   "source": [
    "How about upper and lower triangular matrices?\n",
    "\n",
    "Upper triangular matrices have 0 for all elements below the diagonal, and lower triangular matrices have 0 for all elements above the diagonal."
   ]
  },
  {
   "cell_type": "markdown",
   "metadata": {},
   "source": [
    "![Matrices](images/lect13_matrix12.png)\n",
    "\n",
    "A nice shortcut available for diagonal matrices:"
   ]
  },
  {
   "cell_type": "code",
   "execution_count": null,
   "metadata": {},
   "outputs": [],
   "source": [
    "f = np.diagflat([[2, 3]])\n",
    "print(f)"
   ]
  },
  {
   "cell_type": "code",
   "execution_count": null,
   "metadata": {},
   "outputs": [],
   "source": [
    "np.linalg.matrix_power(f, 3)"
   ]
  },
  {
   "cell_type": "markdown",
   "metadata": {},
   "source": [
    "![Matrices](images/lect13_matrix13.png)"
   ]
  },
  {
   "cell_type": "markdown",
   "metadata": {},
   "source": [
    "#### What is the identity matrix and why is it called that?"
   ]
  },
  {
   "cell_type": "code",
   "execution_count": null,
   "metadata": {},
   "outputs": [],
   "source": [
    "eye = np.eye(2, dtype=int)\n",
    "print(d)\n",
    "print(eye)"
   ]
  },
  {
   "cell_type": "code",
   "execution_count": null,
   "metadata": {},
   "outputs": [],
   "source": [
    "np.matmul(d, eye)"
   ]
  },
  {
   "cell_type": "code",
   "execution_count": null,
   "metadata": {},
   "outputs": [],
   "source": [
    "np.matmul(eye, d)"
   ]
  },
  {
   "cell_type": "markdown",
   "metadata": {},
   "source": [
    "![Matrices](images/lect13_matrix14.png)"
   ]
  },
  {
   "cell_type": "markdown",
   "metadata": {},
   "source": [
    "If the product of two square matrices is an identity matrix, then the two factor matrices are inverses of each other. This means that \n",
    "$ \\left( \\begin{array}{ccc}\n",
    "x_{11} & x_{12} \\\\\n",
    "x_{21} & x_{22} \\end{array} \\right) $ is an inverse matrix to \n",
    "$ \\left( \\begin{array}{ccc}\n",
    "1 & 2 \\\\\n",
    "3 & 4 \\end{array} \\right) $  if\n",
    "\n",
    "$$ \\left( \\begin{array}{ccc}\n",
    "1 & 2 \\\\\n",
    "3 & 4 \\end{array} \\right)\n",
    "\\left( \\begin{array}{ccc}\n",
    "x_{11} & x_{12} \\\\\n",
    "x_{21} & x_{22} \\end{array} \\right)\n",
    "= \\left( \\begin{array}{ccc}\n",
    "1 & 0 \\\\\n",
    "0 & 1 \\end{array} \\right) $$"
   ]
  },
  {
   "cell_type": "markdown",
   "metadata": {},
   "source": [
    "![Matrices](images/lect13_matrix15.png)"
   ]
  },
  {
   "cell_type": "markdown",
   "metadata": {},
   "source": [
    "![Matrices](images/lect13_matrix16.png)"
   ]
  },
  {
   "cell_type": "markdown",
   "metadata": {},
   "source": [
    "![Matrices](images/lect13_matrix17.png)"
   ]
  },
  {
   "cell_type": "markdown",
   "metadata": {},
   "source": [
    "*Note:* the example above has one solution. Singular cases (definition below) have none or infinite solutions.\n",
    "\n",
    "![Matrices](images/lect13_singular.png)"
   ]
  },
  {
   "cell_type": "markdown",
   "metadata": {},
   "source": [
    "Now, using Gaussian elimination (e.g. the sweeping method) find, the inverse matrix of \n",
    "$ \\left( \\begin{array}{ccc}\n",
    "3 & 1 \\\\\n",
    "1 & 2 \\end{array} \\right) $"
   ]
  },
  {
   "cell_type": "code",
   "execution_count": null,
   "metadata": {},
   "outputs": [],
   "source": [
    "g = np.array([[3, 1], [1, 2]])\n",
    "h = np.linalg.inv(g)\n",
    "print(h)"
   ]
  },
  {
   "cell_type": "code",
   "execution_count": null,
   "metadata": {},
   "outputs": [],
   "source": [
    "# checking our work\n",
    "np.matmul(g, h)"
   ]
  },
  {
   "cell_type": "code",
   "execution_count": null,
   "metadata": {},
   "outputs": [],
   "source": [
    "np.matmul(h, g)"
   ]
  },
  {
   "cell_type": "markdown",
   "metadata": {},
   "source": [
    "![Matrices](images/lect13_matrix18.png)"
   ]
  },
  {
   "cell_type": "markdown",
   "metadata": {},
   "source": [
    "![Matrices](images/lect13_matrix19.png)"
   ]
  },
  {
   "cell_type": "markdown",
   "metadata": {},
   "source": [
    "![Matrices](images/lect13_matrix20.png)"
   ]
  },
  {
   "cell_type": "markdown",
   "metadata": {},
   "source": [
    "If **A** has an inverse, than **A** is a *nonsingular matrix*. Similarly, if **A** has no inverse, then **A** is called a *singular matrix*.\n",
    "\n",
    "If **A** has an inverse, the inverse is unique."
   ]
  },
  {
   "cell_type": "markdown",
   "metadata": {},
   "source": [
    "### Calculating determinants\n",
    "\n",
    "From: https://www.mathsisfun.com/algebra/matrix-determinant.html\n",
    "![Matrices](images/lect13_matrix21.png)"
   ]
  },
  {
   "cell_type": "code",
   "execution_count": null,
   "metadata": {
    "collapsed": true
   },
   "outputs": [],
   "source": [
    "k = np.array([[4, 6], [3, 8]])\n",
    "np.linalg.det(k)"
   ]
  },
  {
   "cell_type": "markdown",
   "metadata": {},
   "source": [
    "![Matrices](images/lect13_matrix22.png)"
   ]
  },
  {
   "cell_type": "code",
   "execution_count": null,
   "metadata": {},
   "outputs": [],
   "source": [
    "m = np.array([[6, 1, 1], [4, -2, 5], [2, 8, 7]])\n",
    "print(m)"
   ]
  },
  {
   "cell_type": "code",
   "execution_count": null,
   "metadata": {},
   "outputs": [],
   "source": [
    "np.linalg.det(m)"
   ]
  },
  {
   "cell_type": "markdown",
   "metadata": {},
   "source": [
    "![Matrices](images/lect13_matrix23.png)"
   ]
  },
  {
   "cell_type": "markdown",
   "metadata": {},
   "source": [
    "#### Fun fact about determinants:\n",
    "\n",
    "For any $n \\times n$ matrices **A** and **B**, det(**AB**) = det(**BA**) = det(**A**) det(**B**)."
   ]
  },
  {
   "cell_type": "markdown",
   "metadata": {},
   "source": [
    "## Next up: Vectors and Linear Transformations!"
   ]
  }
 ],
 "metadata": {
  "kernelspec": {
   "display_name": "Python 3",
   "language": "python",
   "name": "python3"
  },
  "language_info": {
   "codemirror_mode": {
    "name": "ipython",
    "version": 3
   },
   "file_extension": ".py",
   "mimetype": "text/x-python",
   "name": "python",
   "nbconvert_exporter": "python",
   "pygments_lexer": "ipython3",
   "version": "3.7.0"
  }
 },
 "nbformat": 4,
 "nbformat_minor": 2
}
