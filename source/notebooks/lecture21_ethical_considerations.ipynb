{
 "cells": [
  {
   "cell_type": "markdown",
   "metadata": {},
   "source": [
    "## 21) Ethics in DS"
   ]
  },
  {
   "cell_type": "markdown",
   "metadata": {},
   "source": [
    "As discussed in the first lecture, the ethical implications of the choices we make should always be considered. Examples from social science applications abound, but ethical considerations should not be limited to that discipline. In the chemical sciences, toxicity and undesirable reactions must be considered. There is always always the question of how the choice of training data and method affects the reliability of the outcome. What are some ethical considerations that come up in your area? "
   ]
  },
  {
   "cell_type": "markdown",
   "metadata": {},
   "source": [
    "The guest lecture for today can be found at: https://www.youtube.com/watch?time_continue=3081&v=ajGX7odA87k\n",
    "\n",
    "The title of his talk does imply that ethics will be considered, although the abstract (at https://www.usenix.org/conference/usenixsecurity18/presentation/mickens) hints at it."
   ]
  },
  {
   "cell_type": "markdown",
   "metadata": {},
   "source": [
    "Some other references on the topic: \n",
    "\n",
    "- https://www.datascience.com/blog/data-ethics-for-data-scientists\n",
    "- https://dssg.uchicago.edu/2015/09/18/an-ethical-checklist-for-data-science/"
   ]
  }
 ],
 "metadata": {
  "kernelspec": {
   "display_name": "Python 3",
   "language": "python",
   "name": "python3"
  },
  "language_info": {
   "codemirror_mode": {
    "name": "ipython",
    "version": 3
   },
   "file_extension": ".py",
   "mimetype": "text/x-python",
   "name": "python",
   "nbconvert_exporter": "python",
   "pygments_lexer": "ipython3",
   "version": "3.6.1"
  }
 },
 "nbformat": 4,
 "nbformat_minor": 2
}
