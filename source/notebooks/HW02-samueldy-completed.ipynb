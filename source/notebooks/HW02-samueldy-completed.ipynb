{
 "cells": [
  {
   "cell_type": "markdown",
   "metadata": {},
   "source": [
    "# HW2, practicing with jupyter notebooks\n",
    "\n",
    "For this assignment, you must be able to launch jupyter notebooks (Python 3 flavored) and run latex and python in them. "
   ]
  },
  {
   "cell_type": "markdown",
   "metadata": {
    "collapsed": true
   },
   "source": [
    "\n",
    "## 1. Checking installation\n",
    "\n",
    "i. What version(s) of python do you have installed on the machine you are using to complete this assignment?"
   ]
  },
  {
   "cell_type": "raw",
   "metadata": {},
   "source": [
    "python --version"
   ]
  },
  {
   "cell_type": "markdown",
   "metadata": {},
   "source": [
    "ii. Where is it/are they installed?"
   ]
  },
  {
   "cell_type": "raw",
   "metadata": {},
   "source": [
    "which python"
   ]
  },
  {
   "cell_type": "markdown",
   "metadata": {},
   "source": [
    "## 2.  Setting up jupyter notebooks\n",
    "\n",
    "It will be helpful to have a jupyter notebook open to answer these questions, either the HW02.ipynb or a new notebook you open that will run python version 3.4 or higher.\n",
    "\n",
    "i. What are the modes available to you? What keystrokes allow you to switch between them?"
   ]
  },
  {
   "cell_type": "raw",
   "metadata": {},
   "source": [
    "Edit and command modes. (Enter edit mode by pressing enter in any cell; exit it by pressing Escape.)"
   ]
  },
  {
   "cell_type": "markdown",
   "metadata": {},
   "source": [
    "ii. What are the types of cells available to you? How can you switch between them?"
   ]
  },
  {
   "cell_type": "raw",
   "metadata": {},
   "source": [
    "Code, Markdown, and Raw cells. Use either the cell switcher menu up top to swith the style of cell, the Cell > Cell Type menu to switch the type, or key commands (y = code, m = Markdown, r = raw) on a cell when in command mode."
   ]
  },
  {
   "cell_type": "markdown",
   "metadata": {},
   "source": [
    "iii. List two other commands that you have found or think you will find useful."
   ]
  },
  {
   "cell_type": "raw",
   "metadata": {},
   "source": [
    "j, k: navigate up and down cells with VIM-like keyboard shortcuts.\n",
    "Shift + j,k: select range of cells with VIM-like keyboard shortcuts."
   ]
  },
  {
   "cell_type": "markdown",
   "metadata": {},
   "source": [
    "iv. Convert the following cell to markdown and, using at least four types of markdown plain text formatting syntax, tell me anything about you that you feel comfortable sharing (this can be some of the same things you shared on the first day, like your program and year in the program, or anything else!)."
   ]
  },
  {
   "cell_type": "markdown",
   "metadata": {},
   "source": [
    "# Things Sam wants to share\n",
    "- I am an engineer.\n",
    "- I have some prior experience with **Bash** and **Vim**.\n",
    "- I am interested in using [Python](https://www.python.org/) in my research."
   ]
  },
  {
   "cell_type": "markdown",
   "metadata": {},
   "source": [
    "v. Using Latex for formatting in the next shell, share your favorite mathematical formula and a sentence about why you like it.\n",
    "\n",
    "*Hint*: Here is a cheat sheet on LaTex math syntax: https://reu.dimacs.rutgers.edu/Symbols.pdf"
   ]
  },
  {
   "cell_type": "markdown",
   "metadata": {},
   "source": [
    "One of the most intriguing identities:\n",
    "\\\\[\n",
    "    \\mathrm e^{\\mathrm i\\pi} + 1 = 0\n",
    "\\\\]\n",
    "This identity is amazing because it brings together elements of arithmetic, algebra, calculus, and complex analysis. It relates five of the most important constants in modern mathematics: $\\mathrm e$, $\\pi$, 1, 0, and $\\mathrm i$, and uses exactly one exponentiation, one multiplication, and one addition."
   ]
  },
  {
   "cell_type": "markdown",
   "metadata": {},
   "source": [
    "## 3. Python in jupyter notebooks\n",
    "\n",
    "i. In the following cell, define variables that you need to calculate a value from your favorite equation, and then make the calculation referencing those variables. Use comments to identify the equation, and to note the units of all variables you defined."
   ]
  },
  {
   "cell_type": "code",
   "execution_count": 2,
   "metadata": {},
   "outputs": [
    {
     "name": "stdout",
     "output_type": "stream",
     "text": [
      "Volume of annulus = 37.69908\n"
     ]
    }
   ],
   "source": [
    "# Calculation of the volume of a spherical annulus with inner radius r1 and outer radius r2.\n",
    "r1 = 4.0 # m\n",
    "r2 = 5.0 # m\n",
    "pi = 3.14159 # m/m [=] 1; Approximation of pi\n",
    "\n",
    "Vannulus = 4.0/3.0 * pi * (r2**2 - r1**2) # Volume of annulus, in m**3.\n",
    "print \"Volume of annulus = {}\".format(Vannulus)"
   ]
  },
  {
   "cell_type": "markdown",
   "metadata": {},
   "source": [
    "ii. Do you get different results if you enter your numbers all as whole numbers (with no decimal points) versus explicitly defining them so that they are rendered as floats? "
   ]
  },
  {
   "cell_type": "raw",
   "metadata": {},
   "source": [
    "Yes--the annuluar volume is less."
   ]
  },
  {
   "cell_type": "markdown",
   "metadata": {},
   "source": [
    "iii. In python, create a list of at least five things or people (represented in string form) that you are grateful for. Sort it and print it. Then add five more things, reverse sort, and print again. Also print the length to make sure you have ten."
   ]
  },
  {
   "cell_type": "code",
   "execution_count": 3,
   "metadata": {
    "collapsed": true
   },
   "outputs": [],
   "source": [
    "thingsImGratefulFor = [\"Mom\",\"Dad\",\"Heavenly Parents\",\"Admission to U-M\",\"Computer technology\"]"
   ]
  },
  {
   "cell_type": "raw",
   "metadata": {
    "collapsed": true
   },
   "source": [
    "Code, Markdown, and Raw cells. Use either the cell switcher menu up top to swith the style of cell, the Cell > Cell Type menu to switch the type, or key commands ("
   ]
  },
  {
   "cell_type": "code",
   "execution_count": 4,
   "metadata": {},
   "outputs": [
    {
     "name": "stdout",
     "output_type": "stream",
     "text": [
      "['Admission to U-M', 'Computer technology', 'Dad', 'Heavenly Parents', 'Mom']\n"
     ]
    }
   ],
   "source": [
    "thingsImGratefulFor.sort()\n",
    "print(thingsImGratefulFor)"
   ]
  },
  {
   "cell_type": "code",
   "execution_count": 5,
   "metadata": {
    "collapsed": true
   },
   "outputs": [],
   "source": [
    "thingsImGratefulFor.extend([\"Food\",\"Place to live\",\"Good friends\",\"Fun activities\",\"Jennifer Finlayson-Fife\"])"
   ]
  },
  {
   "cell_type": "code",
   "execution_count": 6,
   "metadata": {},
   "outputs": [
    {
     "name": "stdout",
     "output_type": "stream",
     "text": [
      "['Place to live', 'Mom', 'Jennifer Finlayson-Fife', 'Heavenly Parents', 'Good friends', 'Fun activities', 'Food', 'Dad', 'Computer technology', 'Admission to U-M']\n"
     ]
    }
   ],
   "source": [
    "thingsImGratefulFor.sort(reverse=True)\n",
    "print(thingsImGratefulFor)"
   ]
  },
  {
   "cell_type": "code",
   "execution_count": 7,
   "metadata": {},
   "outputs": [
    {
     "name": "stdout",
     "output_type": "stream",
     "text": [
      "10\n"
     ]
    }
   ],
   "source": [
    "print(len(thingsImGratefulFor))"
   ]
  }
 ],
 "metadata": {
  "kernelspec": {
   "display_name": "Python 3",
   "language": "python",
   "name": "python3"
  },
  "language_info": {
   "codemirror_mode": {
    "name": "ipython",
    "version": 3
   },
   "file_extension": ".py",
   "mimetype": "text/x-python",
   "name": "python",
   "nbconvert_exporter": "python",
   "pygments_lexer": "ipython3",
   "version": "3.6.6"
  }
 },
 "nbformat": 4,
 "nbformat_minor": 2
}
