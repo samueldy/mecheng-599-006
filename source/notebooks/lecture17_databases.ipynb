{
 "cells": [
  {
   "cell_type": "markdown",
   "metadata": {},
   "source": [
    "# Databases\n",
    "Guest lecture by Bradley Dice, [@bdice](https://github.com/bdice/)."
   ]
  },
  {
   "cell_type": "markdown",
   "metadata": {},
   "source": [
    "### Why databases?\n",
    "Tons of applications: managing digital content (websites), product inventories, transactions, health records... structure, security, and speed are all important.\n",
    "\n",
    "- What if the size of your data exceeds the memory of the system?\n",
    "  - Out-of-core algorithms.\n",
    "- What if your data needs to be accessed by servers around the world?\n",
    "  - Split it up by geography.\n",
    "- Text files and spreadsheets can only do so much.\n",
    "\n",
    "Databases administrators have to think about software, hardware, data structures, permissions and roles, backups, reports, optimization, and migration. This lecture will focus on the \"user\" side, especially how to get information out of a SQL database for analysis."
   ]
  },
  {
   "cell_type": "markdown",
   "metadata": {},
   "source": [
    "## What can we expect from most databases? CRUD + ACID.\n",
    "\n",
    "Operations you can perform: **CRUD.** When interfacing with a database, you can expect to have these functions available.\n",
    "- **Create:** Add new data.\n",
    "- **Read:** Fetch existing data.\n",
    "- **Update:** Edit existing data.\n",
    "- **Delete:** Remove data.\n",
    "\n",
    "Guarantees for how the database will act: **ACID.** These properties ensure databases are protected against hardware failures and software errors.\n",
    "- **Atomicity:** Transactions will be completed fully, or not at all.\n",
    "- **Consistency:** Transactions must leave the database in a valid state.\n",
    "- **Isolation:** Transactions performed concurrently must act the same as transactions performed sequentially.\n",
    "- **Durability:** Transactions must be permanent (i.e. stored on a disk, not in memory)."
   ]
  },
  {
   "cell_type": "markdown",
   "metadata": {},
   "source": [
    "### Types of databases\n",
    "- Relational and non-relational.\n",
    "- These generally correspond to \"SQL-like\" and \"NoSQL-like.\""
   ]
  },
  {
   "cell_type": "markdown",
   "metadata": {},
   "source": [
    "## Relational Databases\n",
    "Programmers interface with relational databases through Structured Query Language (SQL).\n",
    "### Examples:\n",
    "Open Source:\n",
    "- MySQL\n",
    "- PostgreSQL (aka Postgres)\n",
    "- SQLite (for local, application-level storage)\n",
    "\n",
    "Commercial:\n",
    "- Oracle Database (aka Oracle)\n",
    "- Microsoft SQL Server\n",
    "- DB2 (IBM)\n",
    "- Microsoft Access, though casual users might not even realize it"
   ]
  },
  {
   "cell_type": "markdown",
   "metadata": {},
   "source": [
    "## Non-relational Databases\n",
    "Sometimes the structure of relational databases can be limiting. What if some properties are defined for one object but not another? There are a few types of non-relational databases including *column stores* (e.g. Cassandra), *document stores* (e.g. MongoDB), *key-value stores* (e.g. Redis), and *graph databases* (e.g. Neo4j).\n",
    "\n",
    "### Examples:\n",
    "Open Source:\n",
    "- MongoDB\n",
    "- Apache Cassandra\n",
    "- Redis\n",
    "- Apache CouchDB\n",
    "- Neo4j"
   ]
  },
  {
   "cell_type": "markdown",
   "metadata": {},
   "source": [
    "## Python Example with sqlite3\n",
    "Reminder: triple-double-quotes `\"\"\"like this\"\"\"` are just another form of Python string, and you can include single or double quotes inside. This is useful for complicated SQL statements."
   ]
  },
  {
   "cell_type": "code",
   "execution_count": 1,
   "metadata": {
    "collapsed": true
   },
   "outputs": [],
   "source": [
    "import sqlite3\n",
    "import os\n",
    "\n",
    "database = 'test.sqlite'\n",
    "\n",
    "# Removes the database if it already exists\n",
    "if os.path.exists(database):\n",
    "    os.remove(database)"
   ]
  },
  {
   "cell_type": "markdown",
   "metadata": {},
   "source": [
    "**Create** data with the `CREATE TABLE` and `INSERT` statements. There are many data types, including `TEXT`, `INTEGER`, `REAL`, `BLOB`, and more. See this [reference list of common SQL data types](https://www.w3schools.com/sql/sql_datatypes.asp)."
   ]
  },
  {
   "cell_type": "code",
   "execution_count": 2,
   "metadata": {
    "collapsed": true
   },
   "outputs": [],
   "source": [
    "with sqlite3.connect(database) as conn:\n",
    "    cursor = conn.cursor()\n",
    "    cursor.execute(\n",
    "        \"\"\"CREATE TABLE People\n",
    "        (first_name TEXT, last_name TEXT, job TEXT, age NUMERIC)\"\"\")\n",
    "    cursor.execute(\n",
    "        \"\"\"INSERT INTO People VALUES (?,?,?,?)\"\"\",\n",
    "        ('Bradley', 'Dice', 'Guest Lecturer', 25))"
   ]
  },
  {
   "cell_type": "code",
   "execution_count": 3,
   "metadata": {},
   "outputs": [
    {
     "name": "stdout",
     "output_type": "stream",
     "text": [
      "[('Bradley', 'Dice', 'Guest Lecturer', 25)]\n"
     ]
    }
   ],
   "source": [
    "with sqlite3.connect(database) as conn:\n",
    "    results = conn.execute(\"\"\"SELECT * FROM People\"\"\")\n",
    "    print(list(results))"
   ]
  },
  {
   "cell_type": "markdown",
   "metadata": {},
   "source": [
    "**Note:** We *always* use the \"prepared statement\" syntax `(?,?,?,?)` instead of formatting the string directly to avoid [SQL Injection](https://en.wikipedia.org/wiki/SQL_injection)!"
   ]
  },
  {
   "cell_type": "markdown",
   "metadata": {},
   "source": [
    "We can also just use `conn` directly, with a shorter syntax that creates cursors automatically. Also, we use `executemany` with a list of tuples, to perform many actions at once."
   ]
  },
  {
   "cell_type": "code",
   "execution_count": 4,
   "metadata": {
    "collapsed": true
   },
   "outputs": [],
   "source": [
    "# Let's add lots of people\n",
    "famous_actors = [\n",
    "    ('Robert', 'Downey Jr.', 'Iron Man', 53),\n",
    "    ('Chris', 'Evans', 'Captain America', 37),\n",
    "    ('Scarlett', 'Johansson', 'Black Widow', 33),\n",
    "    ('Samuel', 'Jackson', 'Nick Fury', 69),\n",
    "    ('Benedict', 'Cumberbatch', 'Dr. Strange', 42),\n",
    "    ('Brie', 'Larson', 'Captain Marvel', 29),\n",
    "    ('Chadwick', 'Boseman', 'Black Panther', 40),\n",
    "]\n",
    "# Yes, I'm a Marvel fan\n",
    "with sqlite3.connect(database) as conn:\n",
    "    conn.executemany(\"\"\"INSERT INTO People VALUES (?,?,?,?)\"\"\", famous_actors)"
   ]
  },
  {
   "cell_type": "markdown",
   "metadata": {},
   "source": [
    "**Read** data with the `SELECT` statement."
   ]
  },
  {
   "cell_type": "code",
   "execution_count": 5,
   "metadata": {},
   "outputs": [
    {
     "name": "stdout",
     "output_type": "stream",
     "text": [
      "[('Bradley', 'Dice', 'Guest Lecturer', 25), ('Robert', 'Downey Jr.', 'Iron Man', 53), ('Chris', 'Evans', 'Captain America', 37), ('Scarlett', 'Johansson', 'Black Widow', 33), ('Samuel', 'Jackson', 'Nick Fury', 69), ('Benedict', 'Cumberbatch', 'Dr. Strange', 42), ('Brie', 'Larson', 'Captain Marvel', 29), ('Chadwick', 'Boseman', 'Black Panther', 40)]\n"
     ]
    }
   ],
   "source": [
    "with sqlite3.connect(database) as conn:\n",
    "    cursor = conn.cursor()\n",
    "    cursor.execute(\n",
    "        \"\"\"SELECT * FROM People\"\"\")\n",
    "    print(cursor.fetchall())"
   ]
  },
  {
   "cell_type": "markdown",
   "metadata": {},
   "source": [
    "**Update** data with the `UPDATE` statement. We forgot a middle initial! Here we use `WHERE` to identify rows that match a set of criteria."
   ]
  },
  {
   "cell_type": "code",
   "execution_count": 6,
   "metadata": {
    "collapsed": true
   },
   "outputs": [],
   "source": [
    "with sqlite3.connect(database) as conn:\n",
    "    conn.execute(\n",
    "        \"\"\"UPDATE People SET first_name = ? WHERE first_name = ? AND last_name = ?\"\"\",\n",
    "        (\"Samuel L.\", \"Samuel\", \"Jackson\"))"
   ]
  },
  {
   "cell_type": "markdown",
   "metadata": {},
   "source": [
    "We can also take user input and return dynamic data:"
   ]
  },
  {
   "cell_type": "code",
   "execution_count": 7,
   "metadata": {},
   "outputs": [
    {
     "name": "stdout",
     "output_type": "stream",
     "text": [
      "('Robert', 53)\n",
      "('Samuel L.', 69)\n"
     ]
    }
   ],
   "source": [
    "age = 45 # input('People older than:')\n",
    "with sqlite3.connect(database) as conn:\n",
    "    results = conn.execute(\n",
    "        \"\"\"SELECT first_name, age FROM People WHERE age >= ?\"\"\",\n",
    "        (age,))\n",
    "    for r in results:\n",
    "        print(r)"
   ]
  },
  {
   "cell_type": "markdown",
   "metadata": {},
   "source": [
    "We can return specific columns by listing them after `SELECT`, and filter the rows with `WHERE`."
   ]
  },
  {
   "cell_type": "code",
   "execution_count": 8,
   "metadata": {},
   "outputs": [
    {
     "name": "stdout",
     "output_type": "stream",
     "text": [
      "[('Samuel L.', 'Jackson')]\n"
     ]
    }
   ],
   "source": [
    "with sqlite3.connect(database) as conn:\n",
    "    results = conn.execute(\"\"\"SELECT first_name, last_name FROM People WHERE last_name = ?\"\"\", (\"Jackson\",))\n",
    "    print(list(results))"
   ]
  },
  {
   "cell_type": "markdown",
   "metadata": {},
   "source": [
    "SQL also lets you make complex selections, groupings, and filterings. Here is an example."
   ]
  },
  {
   "cell_type": "code",
   "execution_count": 9,
   "metadata": {},
   "outputs": [
    {
     "name": "stdout",
     "output_type": "stream",
     "text": [
      "Total count of people: [(8,)]\n",
      "Count by first letters of first names: [('B', 3), ('C', 2), ('R', 1), ('S', 2)]\n",
      "Average age of people: [(41.0,)]\n",
      "Summed ages of people: [(328,)]\n"
     ]
    }
   ],
   "source": [
    "with sqlite3.connect(database) as conn:\n",
    "    results = conn.execute(\"\"\"SELECT COUNT(*) FROM People\"\"\")\n",
    "    print('Total count of people:', list(results))\n",
    "    results = conn.execute(\n",
    "        \"\"\"SELECT SUBSTR(first_name, 1, 1) AS first_letter, COUNT(*) FROM People GROUP BY first_letter\"\"\")\n",
    "    print('Count by first letters of first names:', list(results))\n",
    "    results = conn.execute(\"\"\"SELECT AVG(age) FROM People\"\"\")\n",
    "    print('Average age of people:', list(results))\n",
    "    results = conn.execute(\"\"\"SELECT SUM(age) FROM People\"\"\")\n",
    "    print('Summed ages of people:', list(results))"
   ]
  },
  {
   "cell_type": "markdown",
   "metadata": {},
   "source": [
    "There are tons of functions for math, string manipulations, date/time manipulations, and more. If you want to learn to do something in particular, just Google it. StackExchange is a great place to find SQL examples. The full reference manual for MySQL is here: https://dev.mysql.com/doc/refman/8.0/en/"
   ]
  },
  {
   "cell_type": "code",
   "execution_count": 10,
   "metadata": {},
   "outputs": [
    {
     "name": "stdout",
     "output_type": "stream",
     "text": [
      "[('table', 'People', 'People', 2, 'CREATE TABLE People\\n        (first_name TEXT, last_name TEXT, job TEXT, age NUMERIC)')]\n"
     ]
    }
   ],
   "source": [
    "# Show us the guts of the database! This command is SQLite-specific.\n",
    "with sqlite3.connect(database) as conn:\n",
    "    results = conn.execute(\"\"\"SELECT * FROM sqlite_master WHERE type = 'table'\"\"\")\n",
    "    print(list(results))"
   ]
  },
  {
   "cell_type": "markdown",
   "metadata": {},
   "source": [
    "The last operation is **delete**. Here's how we delete data, also called \"dropping\" rows/columns/tables."
   ]
  },
  {
   "cell_type": "code",
   "execution_count": 11,
   "metadata": {},
   "outputs": [
    {
     "name": "stdout",
     "output_type": "stream",
     "text": [
      "Total count of people after removing Bradley: [(7,)]\n",
      "The table \"people\" has been dropped.\n"
     ]
    }
   ],
   "source": [
    "with sqlite3.connect(database) as conn:\n",
    "    conn.execute(\"\"\"DELETE FROM People WHERE first_name = ?\"\"\", (\"Bradley\",))\n",
    "    results = conn.execute(\"\"\"SELECT COUNT(*) FROM People\"\"\")\n",
    "    print('Total count of people after removing Bradley:', list(results))\n",
    "    # You can't rename or remove columns in sqlite, but this is how you would do it in most SQL databases:\n",
    "    #conn.execute(\"\"\"ALTER TABLE people DROP COLUMN age\"\"\")\n",
    "    conn.execute(\"\"\"DROP TABLE People\"\"\")\n",
    "    print('The table \"people\" has been dropped.')"
   ]
  },
  {
   "attachments": {
    "image.png": {
     "image/png": "[encoded data removed]"
    }
   },
   "cell_type": "markdown",
   "metadata": {},
   "source": [
    "[The story of Bobby Tables](http://bobby-tables.com/).\n",
    "![image.png](attachment:image.png)"
   ]
  },
  {
   "cell_type": "markdown",
   "metadata": {},
   "source": [
    "## ...so what does it mean to be \"relational\"?\n",
    "Now we're going to dive into some of the most important parts of SQL: keys and relationships. Think about your UMich ID card. It gives you a unique identifying number that isn't your name (there could be many Jane Smiths). It is a permanent number and won't ever change, and nobody else will ever have the same ID number. Similarly, most databases need a **primary key**.\n",
    "\n",
    "If we specified a name every time, it would be hard to find-and-replace. The database can guarantee that every row has an identifier for us, which improves searchability and ensures good performance for comparisons.\n",
    "\n",
    "We will create multiple tables and `JOIN` them to understand how one type of data (e.g. actors) is connected to another (e.g. movies). This is how huge social networks associate photos to your account, associate tagged friends to photos, track friend/follow relationships, and more.\n",
    "\n",
    "**Goal:** We would like to know which actors have been in the most Marvel movies, and how long they've been acting in Marvel films. To do this, we need a way to connect *actors with movies*."
   ]
  },
  {
   "cell_type": "markdown",
   "metadata": {},
   "source": [
    "## Example: *IMBD*, Index of Marvel data with Bradley Dice\n",
    "First, we create a table `Movies` to store the movie titles and years. We will use a primary key `id`."
   ]
  },
  {
   "cell_type": "code",
   "execution_count": 12,
   "metadata": {
    "collapsed": true
   },
   "outputs": [],
   "source": [
    "database = 'movie_ratings.sqlite'\n",
    "\n",
    "# Removes the database if it already exists\n",
    "if os.path.exists(database):\n",
    "    os.remove(database)\n",
    "    \n",
    "with sqlite3.connect(database) as conn:\n",
    "    # Here we create a primary key, and use \"NOT NULL\" to prevent inserting invalid data\n",
    "    conn.execute(\n",
    "        \"\"\"CREATE TABLE Movies\n",
    "        (id INTEGER PRIMARY KEY AUTOINCREMENT, title TEXT NOT NULL, year INTEGER NOT NULL)\"\"\")\n",
    "    conn.executemany(\n",
    "        \"\"\"INSERT INTO Movies (title, year) VALUES (?,?)\"\"\",\n",
    "        [('Iron Man', 2008),\n",
    "         ('The Incredible Hulk', 2008),\n",
    "         ('Iron Man 2', 2010),\n",
    "         ('Thor', 2011),\n",
    "         ('Captain America: The First Avenger', 2011),\n",
    "         ('The Avengers', 2012),\n",
    "         ('Iron Man 3', 2013),\n",
    "         ('Captain America: The Winter Soldier', 2014),\n",
    "         ('Avengers: Age of Ultron', 2015),\n",
    "         ('Captain America: Civil War', 2016),\n",
    "         ('Doctor Strange', 2016),\n",
    "         ('Black Panther', 2018),\n",
    "         ('Avengers: Infinity War', 2018),\n",
    "        ])"
   ]
  },
  {
   "cell_type": "markdown",
   "metadata": {},
   "source": [
    "Let's read back that data and make sure it worked as expected."
   ]
  },
  {
   "cell_type": "code",
   "execution_count": 13,
   "metadata": {},
   "outputs": [
    {
     "name": "stdout",
     "output_type": "stream",
     "text": [
      "[(1, 'Iron Man', 2008), (2, 'The Incredible Hulk', 2008), (3, 'Iron Man 2', 2010), (4, 'Thor', 2011), (5, 'Captain America: The First Avenger', 2011), (6, 'The Avengers', 2012), (7, 'Iron Man 3', 2013), (8, 'Captain America: The Winter Soldier', 2014), (9, 'Avengers: Age of Ultron', 2015), (10, 'Captain America: Civil War', 2016), (11, 'Doctor Strange', 2016), (12, 'Black Panther', 2018), (13, 'Avengers: Infinity War', 2018)]\n"
     ]
    }
   ],
   "source": [
    "with sqlite3.connect(database) as conn:\n",
    "    results = conn.execute(\"\"\"SELECT * FROM Movies\"\"\")\n",
    "    print(list(results))"
   ]
  },
  {
   "cell_type": "code",
   "execution_count": 14,
   "metadata": {},
   "outputs": [
    {
     "name": "stdout",
     "output_type": "stream",
     "text": [
      "[(12, 'Black Panther', 2018), (13, 'Avengers: Infinity War', 2018), (10, 'Captain America: Civil War', 2016), (11, 'Doctor Strange', 2016), (9, 'Avengers: Age of Ultron', 2015), (8, 'Captain America: The Winter Soldier', 2014), (7, 'Iron Man 3', 2013), (6, 'The Avengers', 2012), (4, 'Thor', 2011), (5, 'Captain America: The First Avenger', 2011), (3, 'Iron Man 2', 2010), (1, 'Iron Man', 2008), (2, 'The Incredible Hulk', 2008)]\n"
     ]
    }
   ],
   "source": [
    "with sqlite3.connect(database) as conn:\n",
    "    results = conn.execute(\"\"\"SELECT * FROM Movies ORDER BY year DESC\"\"\")\n",
    "    print(list(results))"
   ]
  },
  {
   "cell_type": "markdown",
   "metadata": {},
   "source": [
    "Now we'll make a table for `Actors`."
   ]
  },
  {
   "cell_type": "code",
   "execution_count": 15,
   "metadata": {},
   "outputs": [
    {
     "name": "stdout",
     "output_type": "stream",
     "text": [
      "[(1, 'Robert', 'Downey Jr.', 'Iron Man', 53.0), (2, 'Chris', 'Evans', 'Captain America', 37.0), (3, 'Scarlett', 'Johansson', 'Black Widow', 33.0), (4, 'Samuel L.', 'Jackson', 'Nick Fury', 69.0), (5, 'Benedict', 'Cumberbatch', 'Dr. Strange', 42.0), (6, 'Brie', 'Larson', 'Captain Marvel', 29.0), (7, 'Chadwick', 'Boseman', 'Black Panther', 40.0)]\n"
     ]
    }
   ],
   "source": [
    "with sqlite3.connect(database) as conn:\n",
    "    conn.execute(\n",
    "        \"\"\"CREATE TABLE Actors\n",
    "        (id INTEGER PRIMARY KEY AUTOINCREMENT,\n",
    "        first_name TEXT NOT NULL,\n",
    "        last_name TEXT NOT NULL,\n",
    "        character TEXT NOT NULL,\n",
    "        age REAL NOT NULL)\"\"\")\n",
    "    conn.executemany(\n",
    "        \"\"\"INSERT INTO Actors (first_name, last_name, character, age) VALUES (?,?,?,?)\"\"\",\n",
    "        [('Robert', 'Downey Jr.', 'Iron Man', 53),\n",
    "         ('Chris', 'Evans', 'Captain America', 37),\n",
    "         ('Scarlett', 'Johansson', 'Black Widow', 33),\n",
    "         ('Samuel L.', 'Jackson', 'Nick Fury', 69),\n",
    "         ('Benedict', 'Cumberbatch', 'Dr. Strange', 42),\n",
    "         ('Brie', 'Larson', 'Captain Marvel', 29),\n",
    "         ('Chadwick', 'Boseman', 'Black Panther', 40)\n",
    "        ])\n",
    "    # ...and print the results\n",
    "    results = conn.execute(\"\"\"SELECT * FROM Actors\"\"\")\n",
    "    print(list(results))"
   ]
  },
  {
   "cell_type": "markdown",
   "metadata": {},
   "source": [
    "We need a name for the table mapping between these. This is a **many-to-many** mapping. Actors can star in multiple movies, and movies can have multiple actors. Other mappings could be **one-to-one**, **one-to-many**, etc.\n",
    "\n",
    "> There are only two hard things in Computer Science: cache invalidation and naming things. -- Phil Karlton\n",
    "\n",
    "We shouldn't name this table with the reserved word Cast (see [CAST](https://dev.mysql.com/doc/refman/8.0/en/cast-functions.html#function_cast)). Another common naming scheme for these just concatenates the names: `MovieActors`, so we'll use that instead."
   ]
  },
  {
   "cell_type": "code",
   "execution_count": 16,
   "metadata": {},
   "outputs": [
    {
     "name": "stdout",
     "output_type": "stream",
     "text": [
      "[(1, 1, 1), (2, 2, 1), (3, 3, 1), (4, 6, 1), (5, 7, 1), (6, 9, 1), (7, 10, 1), (8, 13, 1), (9, 5, 2), (10, 6, 2), (11, 8, 2), (12, 9, 2), (13, 10, 2), (14, 13, 2), (15, 3, 3), (16, 6, 3), (17, 8, 3), (18, 9, 3), (19, 10, 3), (20, 13, 3), (21, 1, 4), (22, 3, 4), (23, 4, 4), (24, 5, 4), (25, 6, 4), (26, 8, 4), (27, 9, 4), (28, 13, 4), (29, 11, 5), (30, 13, 5), (31, 10, 7), (32, 12, 7), (33, 13, 7)]\n"
     ]
    }
   ],
   "source": [
    "with sqlite3.connect(database) as conn:\n",
    "    conn.execute(\n",
    "        \"\"\"CREATE TABLE MovieActors\n",
    "        (id INTEGER PRIMARY KEY AUTOINCREMENT, movie_id INTEGER NOT NULL, actor_id INTEGER NOT NULL)\"\"\")\n",
    "    conn.executemany(\n",
    "        \"\"\"INSERT INTO MovieActors (movie_id, actor_id) VALUES (?,?)\"\"\",\n",
    "        [(1, 1), (2, 1), (3, 1), (6, 1), (7, 1), (9, 1), (10, 1), (13, 1), (5, 2), (6, 2), (8, 2), (9, 2), (10, 2), (13, 2),\n",
    "        (3, 3), (6, 3), (8, 3), (9, 3), (10, 3), (13, 3), (1, 4), (3, 4), (4, 4), (5, 4), (6, 4), (8, 4), (9, 4), (13, 4),\n",
    "        (11, 5), (13, 5), (10, 7), (12, 7), (13, 7)])\n",
    "    # ...and print the results\n",
    "    results = conn.execute(\"\"\"SELECT * FROM MovieActors\"\"\")\n",
    "    print(list(results))"
   ]
  },
  {
   "cell_type": "markdown",
   "metadata": {},
   "source": [
    "## JOINing ~~forces~~ tables\n",
    "This demonstrates a `JOIN` operation. There are different kinds of JOINs, explained nicely in [this resource](https://community.modeanalytics.com/sql/tutorial/sql-joins/)."
   ]
  },
  {
   "cell_type": "code",
   "execution_count": 17,
   "metadata": {},
   "outputs": [
    {
     "name": "stdout",
     "output_type": "stream",
     "text": [
      "[(1, 1, 1, 1, 'Iron Man', 2008, 1, 'Robert', 'Downey Jr.', 'Iron Man', 53.0), (2, 2, 1, 2, 'The Incredible Hulk', 2008, 1, 'Robert', 'Downey Jr.', 'Iron Man', 53.0), (3, 3, 1, 3, 'Iron Man 2', 2010, 1, 'Robert', 'Downey Jr.', 'Iron Man', 53.0), (4, 6, 1, 6, 'The Avengers', 2012, 1, 'Robert', 'Downey Jr.', 'Iron Man', 53.0), (5, 7, 1, 7, 'Iron Man 3', 2013, 1, 'Robert', 'Downey Jr.', 'Iron Man', 53.0), (6, 9, 1, 9, 'Avengers: Age of Ultron', 2015, 1, 'Robert', 'Downey Jr.', 'Iron Man', 53.0), (7, 10, 1, 10, 'Captain America: Civil War', 2016, 1, 'Robert', 'Downey Jr.', 'Iron Man', 53.0), (8, 13, 1, 13, 'Avengers: Infinity War', 2018, 1, 'Robert', 'Downey Jr.', 'Iron Man', 53.0), (9, 5, 2, 5, 'Captain America: The First Avenger', 2011, 2, 'Chris', 'Evans', 'Captain America', 37.0), (10, 6, 2, 6, 'The Avengers', 2012, 2, 'Chris', 'Evans', 'Captain America', 37.0), (11, 8, 2, 8, 'Captain America: The Winter Soldier', 2014, 2, 'Chris', 'Evans', 'Captain America', 37.0), (12, 9, 2, 9, 'Avengers: Age of Ultron', 2015, 2, 'Chris', 'Evans', 'Captain America', 37.0), (13, 10, 2, 10, 'Captain America: Civil War', 2016, 2, 'Chris', 'Evans', 'Captain America', 37.0), (14, 13, 2, 13, 'Avengers: Infinity War', 2018, 2, 'Chris', 'Evans', 'Captain America', 37.0), (15, 3, 3, 3, 'Iron Man 2', 2010, 3, 'Scarlett', 'Johansson', 'Black Widow', 33.0), (16, 6, 3, 6, 'The Avengers', 2012, 3, 'Scarlett', 'Johansson', 'Black Widow', 33.0), (17, 8, 3, 8, 'Captain America: The Winter Soldier', 2014, 3, 'Scarlett', 'Johansson', 'Black Widow', 33.0), (18, 9, 3, 9, 'Avengers: Age of Ultron', 2015, 3, 'Scarlett', 'Johansson', 'Black Widow', 33.0), (19, 10, 3, 10, 'Captain America: Civil War', 2016, 3, 'Scarlett', 'Johansson', 'Black Widow', 33.0), (20, 13, 3, 13, 'Avengers: Infinity War', 2018, 3, 'Scarlett', 'Johansson', 'Black Widow', 33.0), (21, 1, 4, 1, 'Iron Man', 2008, 4, 'Samuel L.', 'Jackson', 'Nick Fury', 69.0), (22, 3, 4, 3, 'Iron Man 2', 2010, 4, 'Samuel L.', 'Jackson', 'Nick Fury', 69.0), (23, 4, 4, 4, 'Thor', 2011, 4, 'Samuel L.', 'Jackson', 'Nick Fury', 69.0), (24, 5, 4, 5, 'Captain America: The First Avenger', 2011, 4, 'Samuel L.', 'Jackson', 'Nick Fury', 69.0), (25, 6, 4, 6, 'The Avengers', 2012, 4, 'Samuel L.', 'Jackson', 'Nick Fury', 69.0), (26, 8, 4, 8, 'Captain America: The Winter Soldier', 2014, 4, 'Samuel L.', 'Jackson', 'Nick Fury', 69.0), (27, 9, 4, 9, 'Avengers: Age of Ultron', 2015, 4, 'Samuel L.', 'Jackson', 'Nick Fury', 69.0), (28, 13, 4, 13, 'Avengers: Infinity War', 2018, 4, 'Samuel L.', 'Jackson', 'Nick Fury', 69.0), (29, 11, 5, 11, 'Doctor Strange', 2016, 5, 'Benedict', 'Cumberbatch', 'Dr. Strange', 42.0), (30, 13, 5, 13, 'Avengers: Infinity War', 2018, 5, 'Benedict', 'Cumberbatch', 'Dr. Strange', 42.0), (31, 10, 7, 10, 'Captain America: Civil War', 2016, 7, 'Chadwick', 'Boseman', 'Black Panther', 40.0), (32, 12, 7, 12, 'Black Panther', 2018, 7, 'Chadwick', 'Boseman', 'Black Panther', 40.0), (33, 13, 7, 13, 'Avengers: Infinity War', 2018, 7, 'Chadwick', 'Boseman', 'Black Panther', 40.0)]\n"
     ]
    }
   ],
   "source": [
    "with sqlite3.connect(database) as conn:\n",
    "    results = conn.execute(\n",
    "        \"\"\"SELECT * FROM MovieActors\n",
    "        JOIN Movies ON MovieActors.movie_id = Movies.id\n",
    "        JOIN Actors ON MovieActors.actor_id = Actors.id\"\"\")\n",
    "    print(list(results))"
   ]
  },
  {
   "cell_type": "markdown",
   "metadata": {},
   "source": [
    "### Sources\n",
    "\n",
    "Database reference material:\n",
    "- https://www.alooma.com/blog/types-of-modern-databases\n",
    "- https://en.wikipedia.org/wiki/Outline_of_databases\n",
    "- https://www.jamesserra.com/archive/2015/08/relational-databases-vs-non-relational-databases/\n",
    "- https://www.pluralsight.com/resource-center/guides/guide-to-becoming-a-database-admin\n",
    "- https://www.sqlite.org/whentouse.html\n",
    "- https://en.wikipedia.org/wiki/NoSQL\n",
    "- https://docs.python.org/3.7/library/sqlite3.html\n",
    "- https://www.w3schools.com/sql/sql_datatypes.asp\n",
    "- https://community.modeanalytics.com/sql/tutorial/sql-joins/\n",
    "- https://www.itprotoday.com/microsoft-sql-server/sql-design-how-choose-primary-key\n",
    "\n",
    "Raw data:\n",
    "- https://en.wikipedia.org/wiki/List_of_Marvel_Cinematic_Universe_film_actors"
   ]
  }
 ],
 "metadata": {
  "kernelspec": {
   "display_name": "Python 3",
   "language": "python",
   "name": "python3"
  },
  "language_info": {
   "codemirror_mode": {
    "name": "ipython",
    "version": 3
   },
   "file_extension": ".py",
   "mimetype": "text/x-python",
   "name": "python",
   "nbconvert_exporter": "python",
   "pygments_lexer": "ipython3",
   "version": "3.6.1"
  }
 },
 "nbformat": 4,
 "nbformat_minor": 2
}
