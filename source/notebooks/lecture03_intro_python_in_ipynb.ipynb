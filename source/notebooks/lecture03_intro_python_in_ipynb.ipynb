{
 "cells": [
  {
   "cell_type": "markdown",
   "metadata": {},
   "source": [
    "# 3) Intro to python using ipynb"
   ]
  },
  {
   "cell_type": "markdown",
   "metadata": {},
   "source": [
    "Related text: https://jakevdp.github.io/WhirlwindTourOfPython/index.html\n",
    "\n",
    "Now to start programming! We'll be documenting what we're doing in our markdown cells, and writing python in our code cells.\n",
    "\n",
    "This intro is based on the related text noted above."
   ]
  },
  {
   "cell_type": "markdown",
   "metadata": {},
   "source": [
    "## Some general notes about python\n",
    "\n",
    "Python is an *interpreted*, not compiled, language. \n",
    "\n",
    "*Benefit*: you can run your python scripts anywhere you install python, without the need to worry about getting code to compile correctly on different platforms.\n",
    "\n",
    "*Drawback*: it is slower to run than a compiled language like C++ or FORTRAN.\n",
    "\n",
    "*Good news*: many libraries are available for python that are written in fast, compiled languages (they did that trouble for you). If you use them, you will save oodles of time both writing and running your scripts. Thus, we will be using them!\n",
    "\n",
    "You will import libraries as simply as this:"
   ]
  },
  {
   "cell_type": "code",
   "execution_count": 1,
   "metadata": {},
   "outputs": [
    {
     "name": "stdout",
     "output_type": "stream",
     "text": [
      "The Zen of Python, by Tim Peters\n",
      "\n",
      "Beautiful is better than ugly.\n",
      "Explicit is better than implicit.\n",
      "Simple is better than complex.\n",
      "Complex is better than complicated.\n",
      "Flat is better than nested.\n",
      "Sparse is better than dense.\n",
      "Readability counts.\n",
      "Special cases aren't special enough to break the rules.\n",
      "Although practicality beats purity.\n",
      "Errors should never pass silently.\n",
      "Unless explicitly silenced.\n",
      "In the face of ambiguity, refuse the temptation to guess.\n",
      "There should be one-- and preferably only one --obvious way to do it.\n",
      "Although that way may not be obvious at first unless you're Dutch.\n",
      "Now is better than never.\n",
      "Although never is often better than *right* now.\n",
      "If the implementation is hard to explain, it's a bad idea.\n",
      "If the implementation is easy to explain, it may be a good idea.\n",
      "Namespaces are one honking great idea -- let's do more of those!\n"
     ]
    }
   ],
   "source": [
    "import this"
   ]
  },
  {
   "cell_type": "markdown",
   "metadata": {},
   "source": [
    "![From xkcd:](images/lect03_xkcd_python.png)\n",
    "(c) xkcd, https://xkcd.com/353/"
   ]
  },
  {
   "cell_type": "markdown",
   "metadata": {},
   "source": [
    "### More motivation for learning python:\n",
    "\n",
    "From the [IEEE Spectrum, 2018-07-31](https://spectrum.ieee.org/at-work/innovation/the-2018-top-programming-languages), ranking by typical IEEE member and Spectrum reader, with a \"focus on things like what’s *au courant* for open source projects\": \n",
    "![IEEE 2018 rankings](images/lect03_programming_rankings.jpeg)"
   ]
  },
  {
   "cell_type": "markdown",
   "metadata": {},
   "source": [
    "## On to some simple python\n",
    "\n",
    "Remember how I mentioned that simple math is not simple in bash? It is in python!"
   ]
  },
  {
   "cell_type": "code",
   "execution_count": null,
   "metadata": {
    "collapsed": true
   },
   "outputs": [],
   "source": [
    "2+2"
   ]
  },
  {
   "cell_type": "markdown",
   "metadata": {},
   "source": [
    "A few important points:\n",
    "- The numbers are very helpful as you figure out what has been run in what order\n",
    "- By default, the output of the last line of code in a cell will be output."
   ]
  },
  {
   "cell_type": "code",
   "execution_count": null,
   "metadata": {
    "collapsed": true
   },
   "outputs": [],
   "source": [
    "1*2\n",
    "3*4"
   ]
  },
  {
   "cell_type": "markdown",
   "metadata": {},
   "source": [
    "You see that only the last line is output. You can also control what is printed. And, generally, we'll be wanting to store output in variables."
   ]
  },
  {
   "cell_type": "code",
   "execution_count": null,
   "metadata": {
    "collapsed": true
   },
   "outputs": [],
   "source": [
    "result_1 = 1 * 2\n",
    "print(result_1)\n",
    "result_2 = 3 * 4"
   ]
  },
  {
   "cell_type": "markdown",
   "metadata": {},
   "source": [
    "The numbered lines can are stored and can be accessed!\n",
    "\n",
    "I'm demonstrate below that you can embed your variable output in text. The \"\\n\" gives me another new line so it is easier to see the three outputs."
   ]
  },
  {
   "cell_type": "code",
   "execution_count": null,
   "metadata": {
    "collapsed": true
   },
   "outputs": [],
   "source": [
    "print(\"In is type {} and In = {}\\n\".format(type(In), In))\n",
    "print(\"The third input was '{}'\\n\".format(In[3]))\n",
    "print('The third input was \"{}\"\\n'.format(In[3]))\n",
    "print(\"Out is type {} and Out = {}\".format(type(Out), Out))"
   ]
  },
  {
   "cell_type": "markdown",
   "metadata": {},
   "source": [
    "Note that Python has what is referred to as dynamic, or duck, typing. That is, if it quacks like a duck, it calls it a duck. This is in contrast to languages like C or Java that have static typing, in which the type of variable must be declared. This provides speed and flexibility, but also slows down running because variables are stored both with the value and type. More on this later. "
   ]
  },
  {
   "cell_type": "code",
   "execution_count": null,
   "metadata": {
    "collapsed": true
   },
   "outputs": [],
   "source": [
    "var_1 = 'che_696-001'\n",
    "var_2 = 4\n",
    "var_3 = 4.3\n",
    "print(type(var_1), type(var_2), type(var_3))"
   ]
  },
  {
   "cell_type": "markdown",
   "metadata": {},
   "source": [
    "Unlike other languages (like C++ and FORTRAN), the variable type of object assigned to the variable can be changed. "
   ]
  },
  {
   "cell_type": "code",
   "execution_count": null,
   "metadata": {
    "collapsed": true
   },
   "outputs": [],
   "source": [
    "var_1 = 8\n",
    "var_2 = 4.2\n",
    "var_3 = 'python is great'\n",
    "print(type(var_1), type(var_2), type(var_3))"
   ]
  },
  {
   "cell_type": "markdown",
   "metadata": {},
   "source": [
    "In python, variables are pointers. They can first point to a string, and then point to a integer, and then to something else. We'll come back to this point at times you may not get the behavior you expect if your mental model is \"var_2 is 4\" versus \"right now, var_2 points to 4\". For example, think about what the output will be from the following statements:"
   ]
  },
  {
   "cell_type": "code",
   "execution_count": null,
   "metadata": {
    "collapsed": true
   },
   "outputs": [],
   "source": [
    "x = [1, 2, 3]\n",
    "y = x  # now x and y point to the same object, a list\n",
    "print(\"x =\", x, \"and y =\", y)\n",
    "x[0] = 4\n",
    "print(\"x =\", x, \"and y =\", y)"
   ]
  },
  {
   "cell_type": "markdown",
   "metadata": {},
   "source": [
    "Right now, `x` and `y` point to the same object. That can be changed!"
   ]
  },
  {
   "cell_type": "code",
   "execution_count": null,
   "metadata": {
    "collapsed": true
   },
   "outputs": [],
   "source": [
    "x = 4\n",
    "print(\"x =\", x, \"and y =\", y)"
   ]
  },
  {
   "cell_type": "code",
   "execution_count": null,
   "metadata": {
    "collapsed": true
   },
   "outputs": [],
   "source": [
    "a = [1, 2, 3]\n",
    "b = a\n",
    "a = [4, 2, 3]\n",
    "print(\"a =\", a, \"and b =\", b)"
   ]
  },
  {
   "cell_type": "code",
   "execution_count": null,
   "metadata": {
    "collapsed": true
   },
   "outputs": [],
   "source": [
    "c = [1, 2, 3]\n",
    "d = c\n",
    "c.append(4)\n",
    "print(\"c =\", c, \"and d =\", d)"
   ]
  },
  {
   "cell_type": "code",
   "execution_count": null,
   "metadata": {
    "collapsed": true
   },
   "outputs": [],
   "source": [
    "e = [1, 2, 3]\n",
    "f = e.copy()\n",
    "e[-1] = 4\n",
    "print(\"e =\", e, \"and f =\", f)"
   ]
  },
  {
   "cell_type": "code",
   "execution_count": null,
   "metadata": {
    "collapsed": true
   },
   "outputs": [],
   "source": [
    "a_num = 3.14\n",
    "g = a_num\n",
    "h = a_num\n",
    "print(\"g =\", g, \"and h =\", h)\n",
    "a_num = 4\n",
    "print(\"g =\", g, \"and h =\", h)"
   ]
  },
  {
   "cell_type": "markdown",
   "metadata": {},
   "source": [
    "*FYI:* When I call `type` I get the type of the object the variable name points to at that moment. "
   ]
  }
 ],
 "metadata": {
  "kernelspec": {
   "display_name": "Python 3",
   "language": "python",
   "name": "python3"
  },
  "language_info": {
   "codemirror_mode": {
    "name": "ipython",
    "version": 3
   },
   "file_extension": ".py",
   "mimetype": "text/x-python",
   "name": "python",
   "nbconvert_exporter": "python",
   "pygments_lexer": "ipython3",
   "version": "3.7.0"
  }
 },
 "nbformat": 4,
 "nbformat_minor": 2
}
