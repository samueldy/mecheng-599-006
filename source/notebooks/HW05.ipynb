{
 "cells": [
  {
   "cell_type": "markdown",
   "metadata": {},
   "source": [
    "# HW5, practice material from the \"Whirlwind Tour of Python\"\n",
    "\n",
    "The material covered in lectures 8 and 9 will primarily be practiced as you work on your individual project.\n",
    "\n",
    "Thus, this homework is a little different from the others. It is based on sections 8-13 of https://jakevdp.github.io/WhirlwindTourOfPython/index.html. Knowing this material will help you with Python programming in general, and your project in particular. \n",
    "\n",
    "The question numbers start with 8 so that the numbers align with the section of the book. Thus, it points to which section to read if you do not already know how to answer the question."
   ]
  },
  {
   "cell_type": "markdown",
   "metadata": {},
   "source": [
    "## 8. Control Flow Statements\n",
    "\n",
    "### i.  Write your own working if-elif-else statement \n"
   ]
  },
  {
   "cell_type": "code",
   "execution_count": null,
   "metadata": {},
   "outputs": [],
   "source": []
  },
  {
   "cell_type": "markdown",
   "metadata": {},
   "source": [
    "### ii. What does the `break` statement do?"
   ]
  },
  {
   "cell_type": "raw",
   "metadata": {},
   "source": []
  },
  {
   "cell_type": "markdown",
   "metadata": {},
   "source": [
    "### iii. Write your own `for` loop that includes a `break` statement, that causes some output to be different than if the `break` were not included. Verify that output."
   ]
  },
  {
   "cell_type": "code",
   "execution_count": null,
   "metadata": {},
   "outputs": [],
   "source": []
  },
  {
   "cell_type": "markdown",
   "metadata": {},
   "source": [
    "### iv. What does the `continue` statement do?"
   ]
  },
  {
   "cell_type": "raw",
   "metadata": {},
   "source": []
  },
  {
   "cell_type": "markdown",
   "metadata": {},
   "source": [
    "### v. Write your own `while` loop that includes a `continue` statement. Check that the statement did what was expected."
   ]
  },
  {
   "cell_type": "code",
   "execution_count": null,
   "metadata": {},
   "outputs": [],
   "source": []
  },
  {
   "cell_type": "markdown",
   "metadata": {},
   "source": [
    "## 9. Defining Functions\n",
    "\n",
    "Define a function (which has not been used in an example in class or in the Whirlwind book) that has at least one required and one optional parameter, and then call it.\n",
    "\n",
    "*Suggestion:* Write this answer with the next question in mind. In the next question you'll need some code that sometimes works, and sometimes has an error. If this is true of what you write here, you can use the same function and then update it to catch the error when you answer the next question."
   ]
  },
  {
   "cell_type": "code",
   "execution_count": null,
   "metadata": {},
   "outputs": [],
   "source": []
  },
  {
   "cell_type": "markdown",
   "metadata": {},
   "source": [
    "## 10. Errors and Exceptions\n",
    "\n",
    "Write a function that sometimes will work and sometimes will not (this can be your answer to the previous problem). Add a try-catch (try...except) clause so you get a nice, clean error message instead of a runtime error."
   ]
  },
  {
   "cell_type": "code",
   "execution_count": null,
   "metadata": {},
   "outputs": [],
   "source": []
  },
  {
   "cell_type": "markdown",
   "metadata": {},
   "source": [
    "## 11. Iterators\n",
    "\n",
    "i. Write a function using the `enumerate` iterator."
   ]
  },
  {
   "cell_type": "code",
   "execution_count": null,
   "metadata": {},
   "outputs": [],
   "source": []
  },
  {
   "cell_type": "markdown",
   "metadata": {},
   "source": [
    "ii. Write a function using the `zip` iterator."
   ]
  },
  {
   "cell_type": "code",
   "execution_count": null,
   "metadata": {},
   "outputs": [],
   "source": []
  },
  {
   "cell_type": "markdown",
   "metadata": {},
   "source": [
    "## 12. List Comprehensions\n",
    "\n",
    "Is the following a valid line of Python code? If so, what is the output? If not, fix what is wrong and then list the output. \n",
    "~~~\n",
    "[val for val in range(20) if val % 3 = 0]\n",
    "~~~"
   ]
  },
  {
   "cell_type": "code",
   "execution_count": null,
   "metadata": {},
   "outputs": [],
   "source": []
  },
  {
   "cell_type": "markdown",
   "metadata": {},
   "source": [
    "## 13. Generators and Generator Expressions\n",
    "\n",
    "What is the difference between the following two snippets of code?\n",
    "\n",
    "~~~\n",
    "P = (n ** 2 for n in range(12))\n",
    "for val in P:\n",
    "    print(val, end=' ')\n",
    "~~~\n",
    "\n",
    "~~~\n",
    "Q = [n ** 2 for n in range(12)]\n",
    "for val in Q:\n",
    "    print(val, end=' ')\n",
    "~~~"
   ]
  },
  {
   "cell_type": "raw",
   "metadata": {},
   "source": []
  }
 ],
 "metadata": {
  "kernelspec": {
   "display_name": "Python 3",
   "language": "python",
   "name": "python3"
  },
  "language_info": {
   "codemirror_mode": {
    "name": "ipython",
    "version": 3
   },
   "file_extension": ".py",
   "mimetype": "text/x-python",
   "name": "python",
   "nbconvert_exporter": "python",
   "pygments_lexer": "ipython3",
   "version": "3.6.1"
  }
 },
 "nbformat": 4,
 "nbformat_minor": 2
}
